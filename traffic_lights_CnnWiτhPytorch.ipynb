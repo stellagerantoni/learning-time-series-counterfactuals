{
  "nbformat": 4,
  "nbformat_minor": 0,
  "metadata": {
    "colab": {
      "provenance": [],
      "mount_file_id": "https://github.com/stellagerantoni/MLChallenge/blob/main/traffic_lights_part_1.ipynb",
      "authorship_tag": "ABX9TyMd6hMCCb6ljBrlsz1SzHRU",
      "include_colab_link": true
    },
    "kernelspec": {
      "name": "python3",
      "display_name": "Python 3"
    },
    "language_info": {
      "name": "python"
    }
  },
  "cells": [
    {
      "cell_type": "markdown",
      "metadata": {
        "id": "view-in-github",
        "colab_type": "text"
      },
      "source": [
        "<a href=\"https://colab.research.google.com/github/stellagerantoni/learning-time-series-counterfactuals/blob/main/traffic_lights_CnnWi%CF%84hPytorch.ipynb\" target=\"_parent\"><img src=\"https://colab.research.google.com/assets/colab-badge.svg\" alt=\"Open In Colab\"/></a>"
      ]
    },
    {
      "cell_type": "code",
      "execution_count": null,
      "metadata": {
        "id": "6ig-NfxHJfMq"
      },
      "outputs": [],
      "source": [
        "import os\n",
        "import cv2\n",
        "import pandas as pd\n",
        "import matplotlib.pyplot as plt\n",
        "import tensorflow as tf\n",
        "import numpy as np\n",
        "import cv2\n",
        "from PIL import Image\n",
        "from sklearn.metrics import balanced_accuracy_score, confusion_matrix, balanced_accuracy_score, log_loss"
      ]
    },
    {
      "cell_type": "code",
      "source": [
        "!unzip \"/content/drive/MyDrive/GTSRB-Training_fixed\" -d \"/content/\""
      ],
      "metadata": {
        "id": "Lktj0xSIN07b"
      },
      "execution_count": null,
      "outputs": []
    },
    {
      "cell_type": "code",
      "source": [
        "#import zipfile\n",
        "#import csv\n",
        "\n",
        "train_images = []\n",
        "train_labels = []\n",
        "validation_images = []\n",
        "validation_labels = []\n",
        "test_images = []\n",
        "test_labels = []\n",
        "annotations=[]"
      ],
      "metadata": {
        "id": "pUQgpiRnOk-G"
      },
      "execution_count": null,
      "outputs": []
    },
    {
      "cell_type": "code",
      "source": [
        "# Importing the training data, its labels and the x,y values to cut the images and keep only the object we want the model to detect\n",
        "\n",
        "root_folder = '/content/GTSRB/Training/'\n",
        "dir_list_classes = sorted(os.listdir(root_folder))\n",
        "for path in dir_list_classes[0:43]:\n",
        "  dir_list_images = sorted(os.listdir(os.path.join(root_folder,path)))\n",
        "  annotation = pd.read_csv(os.path.join(root_folder,path,dir_list_images[-1]),delimiter = ';')\n",
        "  img_nb = 0\n",
        "  for file in dir_list_images[:150]:\n",
        "    img_path = os.path.join(root_folder,path)\n",
        "    img = cv2.imread(os.path.join(img_path, file))\n",
        "\n",
        "    x1 = annotation.loc[img_nb,'Roi.X1']\n",
        "    y1 = annotation.loc[img_nb,'Roi.Y1']\n",
        "    x2 = annotation.loc[img_nb,'Roi.X2']\n",
        "    y2 = annotation.loc[img_nb,'Roi.Y2']\n",
        "\n",
        "    cropped_img = img[y1:y2, x1:x2]\n",
        "\n",
        "    resized_img = cv2.resize(cropped_img, (100, 100))\n",
        "    train_images.append(resized_img)\n",
        "\n",
        "    class_id = annotation.loc[img_nb,'ClassId']\n",
        "    train_labels.append(class_id)\n",
        "    img_nb +=1"
      ],
      "metadata": {
        "id": "xs8QMWZlW1E9"
      },
      "execution_count": null,
      "outputs": []
    },
    {
      "cell_type": "code",
      "source": [
        "# Importing the testing data, its labels and the x,y values to cut the images and keep only the object we want the model to detect\n",
        "\n",
        "root_folder_test = '/content/drive/MyDrive/Classroom/Final_Test/Images'\n",
        "root_folder_test_dir = sorted(os.listdir(root_folder_test))\n",
        "annotation_test = pd.read_csv('/content/drive/MyDrive/Colab Notebooks/GT-final_test.csv',delimiter = ';')\n",
        "img_idx = 0\n",
        "for path in root_folder_test_dir[0:12629]:\n",
        "    img_path = os.path.join(root_folder_test,path)\n",
        "    img = cv2.imread(img_path)\n",
        "\n",
        "    x1 = annotation_test.loc[img_idx,'Roi.X1']\n",
        "    y1 = annotation_test.loc[img_idx,'Roi.Y1']\n",
        "    x2 = annotation_test.loc[img_idx,'Roi.X2']\n",
        "    y2 = annotation_test.loc[img_idx,'Roi.Y2']\n",
        "\n",
        "    cropped_img = img[y1:y2, x1:x2]\n",
        "    resized_img = cv2.resize(cropped_img, (100, 100))\n",
        "\n",
        "    class_id_test = annotation_test.loc[img_idx,'ClassId']\n",
        "    test_labels.append(class_id_test)\n",
        "\n",
        "    test_images.append(resized_img)\n",
        "    img_idx +=1"
      ],
      "metadata": {
        "id": "9LzO4r8g9_JH"
      },
      "execution_count": null,
      "outputs": []
    },
    {
      "cell_type": "code",
      "source": [
        "#shuffling the training data (testing data is already in no purticular order), and spliting the training data so that 20% becomes validation data.\n",
        "\n",
        "from sklearn.utils import shuffle\n",
        "train_images, train_labels = shuffle(train_images, train_labels, random_state=RANDOM_STATE)\n",
        "\n",
        "from sklearn.model_selection import train_test_split\n",
        "train_images, validation_images, train_labels, validation_labels = train_test_split(train_images, train_labels, test_size=0.2, random_state=42, stratify=train_labels)"
      ],
      "metadata": {
        "id": "rs7lbINAbHAG"
      },
      "execution_count": null,
      "outputs": []
    },
    {
      "cell_type": "code",
      "source": [
        "#converting everything to a numpy array and normalizing the images so that all the values of the pixels are from 0 to 1.\n",
        "\n",
        "train_images = np.array(train_images)\n",
        "train_labels = np.array(train_labels)\n",
        "test_images = np.array(test_images)\n",
        "test_labels = np.array(test_labels)\n",
        "validation_images = np.array(validation_images)\n",
        "validation_labels = np.array(validation_labels)\n",
        "\n",
        "train_images = train_images/255.0\n",
        "test_images = test_images/255.0\n",
        "validation_images = validation_images/255.0"
      ],
      "metadata": {
        "id": "jrhNBel0oEJO"
      },
      "execution_count": null,
      "outputs": []
    },
    {
      "cell_type": "code",
      "source": [
        "#transforming the labels so that they are in a one hot encoding form for the model.\n",
        "from keras.utils import to_categorical\n",
        "\n",
        "train_labels_categorical = to_categorical(train_labels, num_classes = 43)\n",
        "validation_labels_categorical = to_categorical(validation_labels, num_classes = 43)\n",
        "test_labels_categorical = to_categorical(test_labels, num_classes = 43)"
      ],
      "metadata": {
        "id": "uBT63aSfZVRx"
      },
      "execution_count": null,
      "outputs": []
    },
    {
      "cell_type": "code",
      "source": [
        "from torch.nn import Module\n",
        "from torch.nn import Conv2d\n",
        "from torch.nn import Linear\n",
        "from torch.nn import MaxPool2d\n",
        "from torch.nn import ReLU\n",
        "from torch.nn import Softmax\n",
        "from torch import flatten\n",
        "from torch.nn import Dropout\n",
        "import torch.nn.functional as F"
      ],
      "metadata": {
        "id": "hW0nRuDsXZZu"
      },
      "execution_count": 2,
      "outputs": []
    },
    {
      "cell_type": "code",
      "source": [
        "class CnnPytorch(Module):\n",
        "  def __init__(self, features, nb_classes):\n",
        "    super().__init__()\n",
        "    self.conv1 = Conv2d(in_channels = features, out_channels = 32, kernel_size = (3,3))\n",
        "    self.relu1 = ReLU()\n",
        "    self.pool1 = MaxPool2d(2,2)\n",
        "\n",
        "    self.conv2 = Conv2d(in_channels = 32, out_channels = 64, kernel_size = (3,3))\n",
        "    self.relu2 = ReLU()\n",
        "    self.pool2 = MaxPool2d(2,2)\n",
        "\n",
        "    self.conv3 = Conv2d(in_channels = 64, out_channels = 128, kernel_size = (3,3))\n",
        "    self.relu3 = ReLU()\n",
        "    self.pool3 = MaxPool2d(2,2)\n",
        "\n",
        "    self.conv4 = Conv2d(in_channels = 128, out_channels = 256, kernel_size = (3,3))\n",
        "    self.relu4 = ReLU()\n",
        "    self.pool4 = MaxPool2d(2,2)\n",
        "\n",
        "    self.dence1 = Linear(256*4*4 ,256)\n",
        "    self.relu5 = ReLU()\n",
        "    self.dropout = Dropout(0.5)\n",
        "    self.dence2 = Linear(256, nb_classes)\n",
        "    self.softmax = Softmax(dim=1)\n"
      ],
      "metadata": {
        "id": "4_ovkxQVc3LC"
      },
      "execution_count": 22,
      "outputs": []
    },
    {
      "cell_type": "code",
      "source": [
        "def forward(self, x):\n",
        "  x = self.pool1(self.relu1(self.conv1(x)))\n",
        "  x = self.pool2(self.relu2(self.conv2(x)))\n",
        "  x = self.pool3(self.relu3(self.conv3(x)))\n",
        "  x = self.pool4(self.relu4(self.conv4(x)))\n",
        "\n",
        "  x = self.relu5(self.dence1(x))\n",
        "  x = self.dropout(x)\n",
        "  x = self.dence2(x)\n",
        "  output = self.softmax(x)\n",
        "  return output\n",
        "\n",
        "model = CnnPytorch(3, 43)\n",
        "print(model)"
      ],
      "metadata": {
        "id": "xkXN2gYOFrek",
        "outputId": "f6d2b76e-5f37-43d7-af6a-0a0944b0ad69",
        "colab": {
          "base_uri": "https://localhost:8080/"
        }
      },
      "execution_count": 23,
      "outputs": [
        {
          "output_type": "stream",
          "name": "stdout",
          "text": [
            "CnnPytorch(\n",
            "  (conv1): Conv2d(3, 32, kernel_size=(3, 3), stride=(1, 1))\n",
            "  (relu1): ReLU()\n",
            "  (pool1): MaxPool2d(kernel_size=2, stride=2, padding=0, dilation=1, ceil_mode=False)\n",
            "  (conv2): Conv2d(32, 64, kernel_size=(3, 3), stride=(1, 1))\n",
            "  (relu2): ReLU()\n",
            "  (pool2): MaxPool2d(kernel_size=2, stride=2, padding=0, dilation=1, ceil_mode=False)\n",
            "  (conv3): Conv2d(64, 128, kernel_size=(3, 3), stride=(1, 1))\n",
            "  (relu3): ReLU()\n",
            "  (pool3): MaxPool2d(kernel_size=2, stride=2, padding=0, dilation=1, ceil_mode=False)\n",
            "  (conv4): Conv2d(128, 256, kernel_size=(3, 3), stride=(1, 1))\n",
            "  (relu4): ReLU()\n",
            "  (pool4): MaxPool2d(kernel_size=2, stride=2, padding=0, dilation=1, ceil_mode=False)\n",
            "  (dence1): Linear(in_features=4096, out_features=256, bias=True)\n",
            "  (relu5): ReLU()\n",
            "  (dropout): Dropout(p=0.5, inplace=False)\n",
            "  (dence2): Linear(in_features=256, out_features=43, bias=True)\n",
            "  (softmax): Softmax(dim=1)\n",
            ")\n"
          ]
        }
      ]
    },
    {
      "cell_type": "code",
      "source": [
        "import torch\n",
        "sample = torch.randn(1,3,100,100)\n",
        "\n",
        "output = model.conv1(sample)\n",
        "output = model.relu1(output)\n",
        "output = model.pool1(output)\n",
        "print(output.shape)\n",
        "\n",
        "output = model.conv2(output)\n",
        "output = model.relu2(output)\n",
        "output = model.pool2(output)\n",
        "print(output.shape)\n",
        "\n",
        "output = model.conv3(output)\n",
        "output = model.relu3(output)\n",
        "output = model.pool3(output)\n",
        "print(output.shape)\n",
        "\n",
        "output = model.conv4(output)\n",
        "output = model.relu4(output)\n",
        "output = model.pool4(output)\n",
        "print(output.shape)\n"
      ],
      "metadata": {
        "id": "ggjNXVZuOedE",
        "outputId": "e449c503-6922-4176-916e-f349fd5ca75b",
        "colab": {
          "base_uri": "https://localhost:8080/"
        }
      },
      "execution_count": 21,
      "outputs": [
        {
          "output_type": "stream",
          "name": "stdout",
          "text": [
            "torch.Size([1, 32, 49, 49])\n",
            "torch.Size([1, 64, 23, 23])\n",
            "torch.Size([1, 128, 10, 10])\n",
            "torch.Size([1, 256, 4, 4])\n"
          ]
        }
      ]
    },
    {
      "cell_type": "code",
      "source": [
        "import torch.nn as nn\n",
        "from torch.optim import Adam\n",
        "criterion = nn.CrossEntropyLoss()\n",
        "optimizer = Adam(model.parameters(), lr=0.001)"
      ],
      "metadata": {
        "id": "9kGAEkRKb1L9"
      },
      "execution_count": 24,
      "outputs": []
    },
    {
      "cell_type": "code",
      "source": [
        "train_images = torch.tensor(train_images)\n",
        "train_labels = torch.tesnsor(train_labels)\n",
        "validation_images = torch.tensor(validation_images)\n",
        "validation_labels = torch.tensor(validation_labels)\n",
        "test_images = torch.tensor(test_images)\n",
        "test_labels = torch.tesnor(test_labels)\n",
        "\n",
        "from torch.utils.data import DataLoader, TensorDataset\n",
        "\n",
        "train_dataset = TensorDataset(train_images, train_labels)\n",
        "train_loader = DataLoader(train_dataset, batch_size=128)\n",
        "\n",
        "validation_dataset = TensorDataset(validation_images, validation_labels)\n",
        "validation_loader = DataLoader(validation_dataset, bach_size = 128)\n",
        "\n",
        "# Define the EarlyStopping callback\n",
        "patience = 30"
      ],
      "metadata": {
        "id": "TYOmVVSdMyxA",
        "outputId": "e2ecf7e6-31c9-4b66-842a-f496256b6fe1",
        "colab": {
          "base_uri": "https://localhost:8080/",
          "height": 244
        }
      },
      "execution_count": 25,
      "outputs": [
        {
          "output_type": "error",
          "ename": "NameError",
          "evalue": "ignored",
          "traceback": [
            "\u001b[0;31m---------------------------------------------------------------------------\u001b[0m",
            "\u001b[0;31mNameError\u001b[0m                                 Traceback (most recent call last)",
            "\u001b[0;32m<ipython-input-25-e0df9c190da3>\u001b[0m in \u001b[0;36m<cell line: 1>\u001b[0;34m()\u001b[0m\n\u001b[0;32m----> 1\u001b[0;31m \u001b[0mtrain_images\u001b[0m \u001b[0;34m=\u001b[0m \u001b[0mtorch\u001b[0m\u001b[0;34m.\u001b[0m\u001b[0mtensor\u001b[0m\u001b[0;34m(\u001b[0m\u001b[0mtrain_images\u001b[0m\u001b[0;34m)\u001b[0m\u001b[0;34m\u001b[0m\u001b[0;34m\u001b[0m\u001b[0m\n\u001b[0m\u001b[1;32m      2\u001b[0m \u001b[0mtrain_labels\u001b[0m \u001b[0;34m=\u001b[0m \u001b[0mtorch\u001b[0m\u001b[0;34m.\u001b[0m\u001b[0mtesnsor\u001b[0m\u001b[0;34m(\u001b[0m\u001b[0mtrain_labels\u001b[0m\u001b[0;34m)\u001b[0m\u001b[0;34m\u001b[0m\u001b[0;34m\u001b[0m\u001b[0m\n\u001b[1;32m      3\u001b[0m \u001b[0mvalidation_images\u001b[0m \u001b[0;34m=\u001b[0m \u001b[0mtorch\u001b[0m\u001b[0;34m.\u001b[0m\u001b[0mtensor\u001b[0m\u001b[0;34m(\u001b[0m\u001b[0mvalidation_images\u001b[0m\u001b[0;34m)\u001b[0m\u001b[0;34m\u001b[0m\u001b[0;34m\u001b[0m\u001b[0m\n\u001b[1;32m      4\u001b[0m \u001b[0mvalidation_labels\u001b[0m \u001b[0;34m=\u001b[0m \u001b[0mtorch\u001b[0m\u001b[0;34m.\u001b[0m\u001b[0mtensor\u001b[0m\u001b[0;34m(\u001b[0m\u001b[0mvalidation_labels\u001b[0m\u001b[0;34m)\u001b[0m\u001b[0;34m\u001b[0m\u001b[0;34m\u001b[0m\u001b[0m\n\u001b[1;32m      5\u001b[0m \u001b[0mtest_images\u001b[0m \u001b[0;34m=\u001b[0m \u001b[0mtorch\u001b[0m\u001b[0;34m.\u001b[0m\u001b[0mtensor\u001b[0m\u001b[0;34m(\u001b[0m\u001b[0mtest_images\u001b[0m\u001b[0;34m)\u001b[0m\u001b[0;34m\u001b[0m\u001b[0;34m\u001b[0m\u001b[0m\n",
            "\u001b[0;31mNameError\u001b[0m: name 'train_images' is not defined"
          ]
        }
      ]
    },
    {
      "cell_type": "code",
      "source": [
        "classifier_history = {'loss': [], 'accuracy': [], 'val_loss': [], 'val_accuracy': []}\n",
        "best_accuracy = 0.0\n",
        "for epoch in range(0,150):\n",
        "  model.train()\n",
        "  optimazer = zero_grad()\n"
      ],
      "metadata": {
        "id": "qhXZgS2QYqaC"
      },
      "execution_count": null,
      "outputs": []
    },
    {
      "cell_type": "code",
      "source": [
        "optimizer = keras.optimizers.Adam(learning_rate=0.001)\n",
        "model_6.compile(optimizer = optimizer, loss = 'categorical_crossentropy', metrics=['accuracy'])\n",
        "early_stopping_accuracy = keras.callbacks.EarlyStopping(\n",
        "    monitor=\"val_accuracy\", patience=30, restore_best_weights=True\n",
        ")\n",
        "reset_seeds()\n",
        "classifier_history_6= model_6.fit(\n",
        "    train_images,\n",
        "    train_labels_categorical,\n",
        "    epochs=64,\n",
        "    batch_size=128,\n",
        "    shuffle=True,\n",
        "    verbose=True,\n",
        "    validation_data=(validation_images, validation_labels_categorical),\n",
        "    callbacks=[early_stopping_accuracy],\n",
        ")\n",
        "y_pred = model_6.predict(test_images)\n",
        "y_pred_classes = np.argmax(y_pred, axis=1)\n",
        "acc = balanced_accuracy_score(y_true=test_labels, y_pred=y_pred_classes)\n",
        "test_loss = log_loss(test_labels,y_pred)\n",
        "print(f\"Classifier trained, with testing accuracy {acc}.\")\n",
        "pd.DataFrame(classifier_history_6.history).plot(figsize=(8,5))\n",
        "plt.show()"
      ],
      "metadata": {
        "id": "f09Sif-yb80M",
        "outputId": "56b2076e-a319-4648-efa5-b8e89792b0da",
        "colab": {
          "base_uri": "https://localhost:8080/",
          "height": 1000
        }
      },
      "execution_count": null,
      "outputs": [
        {
          "output_type": "stream",
          "name": "stdout",
          "text": [
            "Epoch 1/64\n",
            "41/41 [==============================] - 4s 47ms/step - loss: 0.0017 - accuracy: 0.9992 - val_loss: 0.0277 - val_accuracy: 0.9953\n",
            "Epoch 2/64\n",
            "41/41 [==============================] - 2s 42ms/step - loss: 0.0109 - accuracy: 0.9983 - val_loss: 0.0402 - val_accuracy: 0.9922\n",
            "Epoch 3/64\n",
            "41/41 [==============================] - 2s 43ms/step - loss: 5.6831e-04 - accuracy: 0.9998 - val_loss: 0.0359 - val_accuracy: 0.9961\n",
            "Epoch 4/64\n",
            "41/41 [==============================] - 2s 43ms/step - loss: 0.0052 - accuracy: 0.9990 - val_loss: 0.0093 - val_accuracy: 0.9969\n",
            "Epoch 5/64\n",
            "41/41 [==============================] - 2s 43ms/step - loss: 0.0165 - accuracy: 0.9965 - val_loss: 0.0184 - val_accuracy: 0.9961\n",
            "Epoch 6/64\n",
            "41/41 [==============================] - 2s 42ms/step - loss: 0.0147 - accuracy: 0.9961 - val_loss: 0.0465 - val_accuracy: 0.9961\n",
            "Epoch 7/64\n",
            "41/41 [==============================] - 2s 42ms/step - loss: 0.0061 - accuracy: 0.9983 - val_loss: 0.0519 - val_accuracy: 0.9953\n",
            "Epoch 8/64\n",
            "41/41 [==============================] - 2s 42ms/step - loss: 0.0112 - accuracy: 0.9977 - val_loss: 0.0325 - val_accuracy: 0.9953\n",
            "Epoch 9/64\n",
            "41/41 [==============================] - 2s 42ms/step - loss: 0.0026 - accuracy: 0.9990 - val_loss: 0.0350 - val_accuracy: 0.9969\n",
            "Epoch 10/64\n",
            "41/41 [==============================] - 2s 43ms/step - loss: 0.0160 - accuracy: 0.9975 - val_loss: 0.0324 - val_accuracy: 0.9969\n",
            "Epoch 11/64\n",
            "41/41 [==============================] - 2s 42ms/step - loss: 0.0188 - accuracy: 0.9975 - val_loss: 0.0271 - val_accuracy: 0.9953\n",
            "Epoch 12/64\n",
            "41/41 [==============================] - 2s 42ms/step - loss: 0.0114 - accuracy: 0.9969 - val_loss: 0.0370 - val_accuracy: 0.9953\n",
            "Epoch 13/64\n",
            "41/41 [==============================] - 2s 42ms/step - loss: 0.0022 - accuracy: 0.9994 - val_loss: 0.0365 - val_accuracy: 0.9953\n",
            "Epoch 14/64\n",
            "41/41 [==============================] - 2s 42ms/step - loss: 0.0055 - accuracy: 0.9986 - val_loss: 0.0349 - val_accuracy: 0.9946\n",
            "Epoch 15/64\n",
            "41/41 [==============================] - 2s 42ms/step - loss: 0.0067 - accuracy: 0.9971 - val_loss: 0.0353 - val_accuracy: 0.9953\n",
            "Epoch 16/64\n",
            "41/41 [==============================] - 2s 42ms/step - loss: 0.0019 - accuracy: 0.9992 - val_loss: 0.0299 - val_accuracy: 0.9946\n",
            "Epoch 17/64\n",
            "41/41 [==============================] - 2s 42ms/step - loss: 0.0130 - accuracy: 0.9979 - val_loss: 0.0450 - val_accuracy: 0.9961\n",
            "Epoch 18/64\n",
            "41/41 [==============================] - 2s 41ms/step - loss: 0.0270 - accuracy: 0.9928 - val_loss: 0.0135 - val_accuracy: 0.9969\n",
            "Epoch 19/64\n",
            "41/41 [==============================] - 2s 41ms/step - loss: 0.0164 - accuracy: 0.9969 - val_loss: 0.0260 - val_accuracy: 0.9946\n",
            "Epoch 20/64\n",
            "41/41 [==============================] - 2s 41ms/step - loss: 0.0075 - accuracy: 0.9979 - val_loss: 0.0232 - val_accuracy: 0.9969\n",
            "Epoch 21/64\n",
            "41/41 [==============================] - 2s 42ms/step - loss: 0.0044 - accuracy: 0.9990 - val_loss: 0.0165 - val_accuracy: 0.9977\n",
            "Epoch 22/64\n",
            "41/41 [==============================] - 2s 42ms/step - loss: 0.0027 - accuracy: 0.9990 - val_loss: 0.0199 - val_accuracy: 0.9969\n",
            "Epoch 23/64\n",
            "41/41 [==============================] - 2s 41ms/step - loss: 0.0015 - accuracy: 0.9994 - val_loss: 0.0256 - val_accuracy: 0.9969\n",
            "Epoch 24/64\n",
            "41/41 [==============================] - 2s 42ms/step - loss: 0.0023 - accuracy: 0.9992 - val_loss: 0.0225 - val_accuracy: 0.9977\n",
            "Epoch 25/64\n",
            "41/41 [==============================] - 2s 41ms/step - loss: 0.0012 - accuracy: 0.9994 - val_loss: 0.0289 - val_accuracy: 0.9969\n",
            "Epoch 26/64\n",
            "41/41 [==============================] - 2s 41ms/step - loss: 0.0064 - accuracy: 0.9988 - val_loss: 0.0379 - val_accuracy: 0.9961\n",
            "Epoch 27/64\n",
            "41/41 [==============================] - 2s 41ms/step - loss: 0.0048 - accuracy: 0.9988 - val_loss: 0.0385 - val_accuracy: 0.9938\n",
            "Epoch 28/64\n",
            "41/41 [==============================] - 2s 41ms/step - loss: 0.0064 - accuracy: 0.9983 - val_loss: 0.0183 - val_accuracy: 0.9961\n",
            "Epoch 29/64\n",
            "41/41 [==============================] - 2s 41ms/step - loss: 0.0016 - accuracy: 0.9994 - val_loss: 0.0205 - val_accuracy: 0.9977\n",
            "Epoch 30/64\n",
            "41/41 [==============================] - 2s 41ms/step - loss: 0.0065 - accuracy: 0.9992 - val_loss: 0.0277 - val_accuracy: 0.9969\n",
            "Epoch 31/64\n",
            "41/41 [==============================] - 2s 41ms/step - loss: 0.0045 - accuracy: 0.9983 - val_loss: 0.0248 - val_accuracy: 0.9977\n",
            "Epoch 32/64\n",
            "41/41 [==============================] - 2s 41ms/step - loss: 0.0149 - accuracy: 0.9961 - val_loss: 0.0333 - val_accuracy: 0.9953\n",
            "Epoch 33/64\n",
            "41/41 [==============================] - 2s 41ms/step - loss: 0.0058 - accuracy: 0.9983 - val_loss: 0.0255 - val_accuracy: 0.9969\n",
            "Epoch 34/64\n",
            "41/41 [==============================] - 2s 41ms/step - loss: 0.0037 - accuracy: 0.9990 - val_loss: 0.0297 - val_accuracy: 0.9953\n",
            "Epoch 35/64\n",
            "41/41 [==============================] - 2s 41ms/step - loss: 0.0050 - accuracy: 0.9983 - val_loss: 0.0372 - val_accuracy: 0.9930\n",
            "Epoch 36/64\n",
            "41/41 [==============================] - 2s 41ms/step - loss: 0.0106 - accuracy: 0.9986 - val_loss: 0.0322 - val_accuracy: 0.9969\n",
            "Epoch 37/64\n",
            "41/41 [==============================] - 2s 41ms/step - loss: 0.0055 - accuracy: 0.9979 - val_loss: 0.0468 - val_accuracy: 0.9938\n",
            "Epoch 38/64\n",
            "41/41 [==============================] - 2s 41ms/step - loss: 0.0034 - accuracy: 0.9986 - val_loss: 0.0583 - val_accuracy: 0.9930\n",
            "Epoch 39/64\n",
            "41/41 [==============================] - 2s 41ms/step - loss: 0.0097 - accuracy: 0.9983 - val_loss: 0.0481 - val_accuracy: 0.9938\n",
            "Epoch 40/64\n",
            "41/41 [==============================] - 2s 41ms/step - loss: 0.0099 - accuracy: 0.9981 - val_loss: 0.0344 - val_accuracy: 0.9961\n",
            "Epoch 41/64\n",
            "41/41 [==============================] - 2s 41ms/step - loss: 0.0085 - accuracy: 0.9984 - val_loss: 0.0211 - val_accuracy: 0.9961\n",
            "Epoch 42/64\n",
            "41/41 [==============================] - 2s 41ms/step - loss: 0.0024 - accuracy: 0.9984 - val_loss: 0.0253 - val_accuracy: 0.9946\n",
            "Epoch 43/64\n",
            "41/41 [==============================] - 2s 41ms/step - loss: 0.0063 - accuracy: 0.9990 - val_loss: 0.0174 - val_accuracy: 0.9961\n",
            "Epoch 44/64\n",
            "41/41 [==============================] - 2s 41ms/step - loss: 0.0018 - accuracy: 0.9994 - val_loss: 0.0163 - val_accuracy: 0.9938\n",
            "Epoch 45/64\n",
            "41/41 [==============================] - 2s 41ms/step - loss: 0.0016 - accuracy: 0.9996 - val_loss: 0.0176 - val_accuracy: 0.9938\n",
            "Epoch 46/64\n",
            "41/41 [==============================] - 2s 41ms/step - loss: 1.8000e-04 - accuracy: 1.0000 - val_loss: 0.0195 - val_accuracy: 0.9946\n",
            "Epoch 47/64\n",
            "41/41 [==============================] - 2s 41ms/step - loss: 4.3129e-04 - accuracy: 0.9998 - val_loss: 0.0200 - val_accuracy: 0.9961\n",
            "Epoch 48/64\n",
            "41/41 [==============================] - 2s 41ms/step - loss: 5.2750e-04 - accuracy: 0.9998 - val_loss: 0.0269 - val_accuracy: 0.9953\n",
            "Epoch 49/64\n",
            "41/41 [==============================] - 2s 41ms/step - loss: 8.4569e-04 - accuracy: 0.9996 - val_loss: 0.0237 - val_accuracy: 0.9961\n",
            "Epoch 50/64\n",
            "41/41 [==============================] - 2s 41ms/step - loss: 8.3467e-04 - accuracy: 0.9992 - val_loss: 0.0236 - val_accuracy: 0.9953\n",
            "Epoch 51/64\n",
            "41/41 [==============================] - 2s 42ms/step - loss: 0.0011 - accuracy: 0.9996 - val_loss: 0.0234 - val_accuracy: 0.9961\n",
            "395/395 [==============================] - 2s 4ms/step\n",
            "Classifier trained, with testing accuracy 0.9008792610751826.\n"
          ]
        },
        {
          "output_type": "display_data",
          "data": {
            "text/plain": [
              "<Figure size 800x500 with 1 Axes>"
            ],
            "image/png": "[encoded data removed]"
          },
          "metadata": {}
        }
      ]
    }
  ]
}