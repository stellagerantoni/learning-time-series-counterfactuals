{
  "cells": [
    {
      "cell_type": "markdown",
      "id": "a0f239ef",
      "metadata": {
        "id": "a0f239ef"
      },
      "source": [
        "### Uncomment the following blocks in order to install dependencies in Google Colab"
      ]
    },
    {
      "cell_type": "code",
      "execution_count": 1,
      "id": "a307b064",
      "metadata": {
        "id": "a307b064",
        "outputId": "d834a5c9-2b0a-4bf6-cdcd-2690e1b97b03",
        "colab": {
          "base_uri": "https://localhost:8080/"
        }
      },
      "outputs": [
        {
          "output_type": "stream",
          "name": "stdout",
          "text": [
            "Cloning into 'learning-time-series-counterfactuals'...\n",
            "remote: Enumerating objects: 274, done.\u001b[K\n",
            "remote: Counting objects: 100% (136/136), done.\u001b[K\n",
            "remote: Compressing objects: 100% (110/110), done.\u001b[K\n",
            "remote: Total 274 (delta 94), reused 24 (delta 24), pack-reused 138\u001b[K\n",
            "Receiving objects: 100% (274/274), 3.41 MiB | 13.49 MiB/s, done.\n",
            "Resolving deltas: 100% (163/163), done.\n",
            "/content/learning-time-series-counterfactuals\n"
          ]
        }
      ],
      "source": [
        " ! git clone https://github.com/stellagerantoni/learning-time-series-counterfactuals\n",
        " %cd learning-time-series-counterfactuals/"
      ]
    },
    {
      "cell_type": "code",
      "execution_count": 2,
      "id": "cd622a74",
      "metadata": {
        "id": "cd622a74",
        "outputId": "543d8d55-47be-4dd6-875b-ae9146a7bcee",
        "colab": {
          "base_uri": "https://localhost:8080/"
        }
      },
      "outputs": [
        {
          "output_type": "stream",
          "name": "stdout",
          "text": [
            "\u001b[2K     \u001b[90m━━━━━━━━━━━━━━━━━━━━━━━━━━━━━━━━━━━━━━━━\u001b[0m \u001b[32m7.2/7.2 MB\u001b[0m \u001b[31m14.4 MB/s\u001b[0m eta \u001b[36m0:00:00\u001b[0m\n",
            "\u001b[2K     \u001b[90m━━━━━━━━━━━━━━━━━━━━━━━━━━━━━━━━━━━━━━━\u001b[0m \u001b[32m169.1/169.1 kB\u001b[0m \u001b[31m2.6 MB/s\u001b[0m eta \u001b[36m0:00:00\u001b[0m\n",
            "\u001b[2K     \u001b[90m━━━━━━━━━━━━━━━━━━━━━━━━━━━━━━━━━━━━━━━\u001b[0m \u001b[32m133.4/133.4 kB\u001b[0m \u001b[31m3.0 MB/s\u001b[0m eta \u001b[36m0:00:00\u001b[0m\n",
            "\u001b[?25h  Preparing metadata (setup.py) ... \u001b[?25l\u001b[?25hdone\n",
            "  Building wheel for fastdtw (setup.py) ... \u001b[?25l\u001b[?25hdone\n"
          ]
        }
      ],
      "source": [
        "\n",
        "\n",
        "!pip install -q wildboar\n",
        "!pip install -q scikit-learn\n",
        "!pip install -q stumpy\n",
        "!pip install -q fastdtw"
      ]
    },
    {
      "cell_type": "code",
      "execution_count": 3,
      "id": "ad8718d5",
      "metadata": {
        "id": "ad8718d5"
      },
      "outputs": [],
      "source": [
        "import sys\n",
        "sys.path.append('./learning-time-series-counterfactuals/src')\n",
        "sys.path.append('./learning-time-series-counterfactuals/LIMESegment/Utils/')"
      ]
    },
    {
      "cell_type": "code",
      "execution_count": 3,
      "id": "772e4dd0",
      "metadata": {
        "id": "772e4dd0"
      },
      "outputs": [],
      "source": []
    },
    {
      "cell_type": "markdown",
      "id": "08a756fb",
      "metadata": {
        "id": "08a756fb"
      },
      "source": [
        "### Actual codes start"
      ]
    },
    {
      "cell_type": "code",
      "execution_count": 4,
      "id": "7845e90e",
      "metadata": {
        "id": "7845e90e",
        "outputId": "39d98197-c364-470b-cff3-cbae5fece6b2",
        "colab": {
          "base_uri": "https://localhost:8080/"
        }
      },
      "outputs": [
        {
          "output_type": "stream",
          "name": "stdout",
          "text": [
            "/content/learning-time-series-counterfactuals/src\n"
          ]
        }
      ],
      "source": [
        "import logging\n",
        "import os\n",
        "import warnings\n",
        "from argparse import ArgumentParser\n",
        "\n",
        "from tensorflow import keras\n",
        "import matplotlib.pyplot as plt\n",
        "import numpy as np\n",
        "import pandas as pd\n",
        "import tensorflow as tf\n",
        "from scipy.spatial import distance_matrix\n",
        "from sklearn.metrics import balanced_accuracy_score, confusion_matrix\n",
        "from sklearn.model_selection import train_test_split\n",
        "from sklearn.neighbors import KDTree, KNeighborsClassifier\n",
        "from sklearn.preprocessing import MinMaxScaler\n",
        "from wildboar.datasets import load_dataset\n",
        "from wildboar.ensemble import ShapeletForestClassifier\n",
        "from wildboar.explain.counterfactual import counterfactuals\n",
        "\n",
        "from _composite import ModifiedLatentCF\n",
        "%cd src\n",
        "from _vanilla import LatentCF\n",
        "from help_functions import (ResultWriter, conditional_pad, evaluate,\n",
        "                            find_best_lr, plot_graphs,\n",
        "                            reset_seeds, time_series_normalize,\n",
        "                            time_series_revert, upsample_minority,\n",
        "                            validity_score)\n",
        "from keras_models import *"
      ]
    },
    {
      "cell_type": "code",
      "execution_count": 5,
      "id": "ef330b1e",
      "metadata": {
        "id": "ef330b1e"
      },
      "outputs": [],
      "source": [
        "gpu_devices = tf.config.experimental.list_physical_devices('GPU')\n",
        "for device in gpu_devices:\n",
        "    tf.config.experimental.set_memory_growth(device, True)"
      ]
    },
    {
      "cell_type": "code",
      "execution_count": 6,
      "id": "80b4f195",
      "metadata": {
        "id": "80b4f195",
        "outputId": "b36580f9-3e07-4576-862a-72c4895983bc",
        "colab": {
          "base_uri": "https://localhost:8080/"
        }
      },
      "outputs": [
        {
          "output_type": "execute_result",
          "data": {
            "text/plain": [
              "[PhysicalDevice(name='/physical_device:GPU:0', device_type='GPU')]"
            ]
          },
          "metadata": {},
          "execution_count": 6
        }
      ],
      "source": [
        "gpu_devices"
      ]
    },
    {
      "cell_type": "code",
      "execution_count": 7,
      "id": "a87d6e5f",
      "metadata": {
        "id": "a87d6e5f"
      },
      "outputs": [],
      "source": [
        "os.environ['TF_DETERMINISTIC_OPS'] = '1'\n",
        "config = tf.compat.v1.ConfigProto()\n",
        "config.gpu_options.allow_growth = True\n",
        "session = tf.compat.v1.Session(config=config)\n"
      ]
    },
    {
      "cell_type": "code",
      "execution_count": 8,
      "id": "d6ff63c0",
      "metadata": {
        "id": "d6ff63c0"
      },
      "outputs": [],
      "source": [
        "logger = logging.getLogger(__name__)\n",
        "logger.info(f\"Num GPUs Available: {len(tf.config.list_physical_devices('GPU'))}.\")\n",
        "RANDOM_STATE = 39\n",
        "\n",
        "DATASET_NAME = \"TwoLeadECG\"\n",
        "OUTPUT_FILENAME = \"twolead-outfile.csv\"\n",
        "result_writer = ResultWriter(file_name=OUTPUT_FILENAME, dataset_name=DATASET_NAME)\n",
        "logger.info(f\"Result writer is ready, writing to {OUTPUT_FILENAME}...\")\n",
        "result_writer.write_head()\n"
      ]
    },
    {
      "cell_type": "code",
      "execution_count": 9,
      "id": "774a78f4",
      "metadata": {
        "id": "774a78f4",
        "outputId": "3a60b96f-d18b-4562-d69f-0af2f892c455",
        "colab": {
          "base_uri": "https://localhost:8080/"
        }
      },
      "outputs": [
        {
          "output_type": "stream",
          "name": "stderr",
          "text": [
            "Downloading ucr-v1.0-default.zip (231.83 MB)\n",
            "  |██████████████████████████████████████████████████| 231.83/231.83 MB\n"
          ]
        }
      ],
      "source": [
        "# 1. Load data\n",
        "X, y = load_dataset(DATASET_NAME, repository=\"wildboar/ucr\")\n",
        "\n",
        "pos = 1\n",
        "neg = 2\n",
        "# Convert positive and negative labels to 1 and 0\n",
        "pos_label, neg_label = 1, 0\n",
        "y_copy = y.copy()\n",
        "if pos != pos_label:\n",
        "    y_copy[y==pos] = pos_label # convert/normalize positive label to 1\n",
        "if neg != neg_label:\n",
        "    y_copy[y==neg] = neg_label # convert negative label to 0\n",
        "\n",
        "X_train, X_test, y_train, y_test = train_test_split(X, y_copy, test_size=0.2, random_state=RANDOM_STATE, stratify=y_copy)\n",
        "\n",
        "# Upsample the minority class\n",
        "y_train_copy = y_train.copy()\n",
        "X_train, y_train = upsample_minority(X_train, y_train, pos_label=pos_label, neg_label=neg_label)\n",
        "if y_train.shape != y_train_copy.shape:\n",
        "    logger.info(f\"Data upsampling performed, current distribution of y: \\n{pd.value_counts(y_train)}.\")\n"
      ]
    },
    {
      "cell_type": "code",
      "execution_count": 10,
      "id": "66181d53",
      "metadata": {
        "id": "66181d53"
      },
      "outputs": [],
      "source": [
        "# ### 1.1 Normalization - fit scaler using training data\n",
        "n_training, n_timesteps = X_train.shape\n",
        "n_features = 1\n",
        "\n",
        "X_train_processed, trained_scaler = time_series_normalize(data=X_train, n_timesteps=n_timesteps)\n",
        "X_test_processed, _ = time_series_normalize(data=X_test, n_timesteps=n_timesteps, scaler=trained_scaler)\n",
        "\n",
        "X_train_processed_padded, padding_size = conditional_pad(X_train_processed) # add extra padding zeros if n_timesteps cannot be divided by 4, required for 1dCNN autoencoder structure\n",
        "X_test_processed_padded, _ = conditional_pad(X_test_processed)\n",
        "n_timesteps_padded = X_train_processed_padded.shape[1]\n",
        "logger.info(f\"Data pre-processed, original #timesteps={n_timesteps}, padded #timesteps={n_timesteps_padded}.\")\n"
      ]
    },
    {
      "cell_type": "code",
      "execution_count": 11,
      "id": "03febb4b",
      "metadata": {
        "id": "03febb4b"
      },
      "outputs": [],
      "source": [
        "y_train_classes = y_train\n",
        "y_test_classes = y_test\n",
        "\n",
        "from tensorflow.keras.utils import to_categorical\n",
        "y_train = to_categorical(y_train, len(np.unique(y_train)))\n",
        "y_test = to_categorical(y_test, len(np.unique(y_test)))"
      ]
    },
    {
      "cell_type": "code",
      "source": [
        "X_train_processed_padded.shape\n"
      ],
      "metadata": {
        "id": "8R6bz77IO9nt",
        "outputId": "f1042ffb-dfa0-473c-866f-54bb3ac1dbff",
        "colab": {
          "base_uri": "https://localhost:8080/"
        }
      },
      "id": "8R6bz77IO9nt",
      "execution_count": 12,
      "outputs": [
        {
          "output_type": "execute_result",
          "data": {
            "text/plain": [
              "(930, 84, 1)"
            ]
          },
          "metadata": {},
          "execution_count": 12
        }
      ]
    },
    {
      "cell_type": "code",
      "execution_count": 13,
      "id": "e8f551c9",
      "metadata": {
        "scrolled": true,
        "id": "e8f551c9",
        "outputId": "b9069e72-d338-4263-f7fe-110bd2dcf159",
        "colab": {
          "base_uri": "https://localhost:8080/"
        }
      },
      "outputs": [
        {
          "output_type": "stream",
          "name": "stderr",
          "text": [
            "WARNING:absl:`lr` is deprecated in Keras optimizer, please use `learning_rate` or use the legacy optimizer, e.g.,tf.keras.optimizers.legacy.Adam.\n"
          ]
        },
        {
          "output_type": "stream",
          "name": "stdout",
          "text": [
            "Epoch 1/150\n",
            "30/30 [==============================] - 20s 45ms/step - loss: 0.2353 - accuracy: 0.9172 - val_loss: 0.6836 - val_accuracy: 0.4979\n",
            "Epoch 2/150\n",
            "30/30 [==============================] - 0s 13ms/step - loss: 0.0853 - accuracy: 0.9817 - val_loss: 0.6809 - val_accuracy: 0.5021\n",
            "Epoch 3/150\n",
            "30/30 [==============================] - 0s 13ms/step - loss: 0.0575 - accuracy: 0.9882 - val_loss: 0.6718 - val_accuracy: 0.5021\n",
            "Epoch 4/150\n",
            "30/30 [==============================] - 0s 12ms/step - loss: 0.0336 - accuracy: 0.9968 - val_loss: 0.6723 - val_accuracy: 0.5021\n",
            "Epoch 5/150\n",
            "30/30 [==============================] - 0s 11ms/step - loss: 0.0437 - accuracy: 0.9914 - val_loss: 0.6776 - val_accuracy: 0.5021\n",
            "Epoch 6/150\n",
            "30/30 [==============================] - 0s 13ms/step - loss: 0.0307 - accuracy: 0.9968 - val_loss: 0.5990 - val_accuracy: 0.5536\n",
            "Epoch 7/150\n",
            "30/30 [==============================] - 0s 12ms/step - loss: 0.0186 - accuracy: 0.9978 - val_loss: 0.5220 - val_accuracy: 0.7897\n",
            "Epoch 8/150\n",
            "30/30 [==============================] - 0s 12ms/step - loss: 0.0103 - accuracy: 1.0000 - val_loss: 0.4534 - val_accuracy: 0.9013\n",
            "Epoch 9/150\n",
            "30/30 [==============================] - 0s 12ms/step - loss: 0.0138 - accuracy: 0.9968 - val_loss: 0.4643 - val_accuracy: 0.7210\n",
            "Epoch 10/150\n",
            "30/30 [==============================] - 0s 14ms/step - loss: 0.0335 - accuracy: 0.9903 - val_loss: 0.5693 - val_accuracy: 0.6867\n",
            "Epoch 11/150\n",
            "30/30 [==============================] - 0s 12ms/step - loss: 0.0303 - accuracy: 0.9925 - val_loss: 0.3379 - val_accuracy: 0.8584\n",
            "Epoch 12/150\n",
            "30/30 [==============================] - 0s 12ms/step - loss: 0.0191 - accuracy: 0.9957 - val_loss: 0.2830 - val_accuracy: 0.9056\n",
            "Epoch 13/150\n",
            "30/30 [==============================] - 0s 11ms/step - loss: 0.0276 - accuracy: 0.9968 - val_loss: 0.3202 - val_accuracy: 0.8240\n",
            "Epoch 14/150\n",
            "30/30 [==============================] - 0s 12ms/step - loss: 0.0299 - accuracy: 0.9946 - val_loss: 0.3264 - val_accuracy: 0.8112\n",
            "Epoch 15/150\n",
            "30/30 [==============================] - 0s 14ms/step - loss: 0.0193 - accuracy: 0.9989 - val_loss: 0.2150 - val_accuracy: 0.9142\n",
            "Epoch 16/150\n",
            "30/30 [==============================] - 0s 12ms/step - loss: 0.0347 - accuracy: 0.9914 - val_loss: 0.3463 - val_accuracy: 0.8069\n",
            "Epoch 17/150\n",
            "30/30 [==============================] - 0s 12ms/step - loss: 0.0142 - accuracy: 0.9978 - val_loss: 0.1606 - val_accuracy: 0.9227\n",
            "Epoch 18/150\n",
            "30/30 [==============================] - 0s 13ms/step - loss: 0.0364 - accuracy: 0.9871 - val_loss: 0.1070 - val_accuracy: 0.9614\n",
            "Epoch 19/150\n",
            "30/30 [==============================] - 0s 13ms/step - loss: 0.0138 - accuracy: 0.9978 - val_loss: 0.0513 - val_accuracy: 0.9871\n",
            "Epoch 20/150\n",
            "30/30 [==============================] - 0s 12ms/step - loss: 0.0204 - accuracy: 0.9957 - val_loss: 0.0610 - val_accuracy: 0.9914\n",
            "Epoch 21/150\n",
            "30/30 [==============================] - 0s 12ms/step - loss: 0.0391 - accuracy: 0.9849 - val_loss: 0.0987 - val_accuracy: 0.9614\n",
            "Epoch 22/150\n",
            "30/30 [==============================] - 0s 12ms/step - loss: 0.0284 - accuracy: 0.9925 - val_loss: 0.0519 - val_accuracy: 0.9914\n",
            "Epoch 23/150\n",
            "30/30 [==============================] - 0s 13ms/step - loss: 0.0173 - accuracy: 0.9968 - val_loss: 0.0611 - val_accuracy: 0.9785\n",
            "Epoch 24/150\n",
            "30/30 [==============================] - 0s 12ms/step - loss: 0.0227 - accuracy: 0.9925 - val_loss: 0.0508 - val_accuracy: 0.9914\n",
            "Epoch 25/150\n",
            "30/30 [==============================] - 0s 12ms/step - loss: 0.0272 - accuracy: 0.9903 - val_loss: 1.0758 - val_accuracy: 0.6266\n",
            "Epoch 26/150\n",
            "30/30 [==============================] - 0s 13ms/step - loss: 0.0318 - accuracy: 0.9892 - val_loss: 0.0402 - val_accuracy: 0.9914\n",
            "Epoch 27/150\n",
            "30/30 [==============================] - 0s 16ms/step - loss: 0.0217 - accuracy: 0.9968 - val_loss: 0.5114 - val_accuracy: 0.7768\n",
            "Epoch 28/150\n",
            "30/30 [==============================] - 1s 18ms/step - loss: 0.0165 - accuracy: 0.9978 - val_loss: 0.2000 - val_accuracy: 0.9313\n",
            "Epoch 29/150\n",
            "30/30 [==============================] - 1s 21ms/step - loss: 0.0379 - accuracy: 0.9882 - val_loss: 0.8572 - val_accuracy: 0.7597\n",
            "Epoch 30/150\n",
            "30/30 [==============================] - 1s 18ms/step - loss: 0.0110 - accuracy: 0.9989 - val_loss: 0.0309 - val_accuracy: 0.9914\n",
            "Epoch 31/150\n",
            "30/30 [==============================] - 0s 16ms/step - loss: 0.0188 - accuracy: 0.9946 - val_loss: 0.0890 - val_accuracy: 0.9614\n",
            "Epoch 32/150\n",
            "30/30 [==============================] - 0s 12ms/step - loss: 0.0096 - accuracy: 0.9978 - val_loss: 0.0742 - val_accuracy: 0.9785\n",
            "Epoch 33/150\n",
            "30/30 [==============================] - 1s 17ms/step - loss: 0.0205 - accuracy: 0.9925 - val_loss: 0.0372 - val_accuracy: 0.9914\n",
            "Epoch 34/150\n",
            "30/30 [==============================] - 0s 12ms/step - loss: 0.0087 - accuracy: 1.0000 - val_loss: 0.1568 - val_accuracy: 0.9227\n",
            "Epoch 35/150\n",
            "30/30 [==============================] - 0s 12ms/step - loss: 0.0202 - accuracy: 0.9957 - val_loss: 0.6759 - val_accuracy: 0.8112\n",
            "Epoch 36/150\n",
            "30/30 [==============================] - 0s 12ms/step - loss: 0.0170 - accuracy: 0.9957 - val_loss: 4.2557 - val_accuracy: 0.5794\n",
            "Epoch 37/150\n",
            "30/30 [==============================] - 0s 13ms/step - loss: 0.0252 - accuracy: 0.9957 - val_loss: 1.2250 - val_accuracy: 0.6738\n",
            "Epoch 38/150\n",
            "30/30 [==============================] - 0s 12ms/step - loss: 0.0501 - accuracy: 0.9849 - val_loss: 2.4700 - val_accuracy: 0.5923\n",
            "Epoch 39/150\n",
            "30/30 [==============================] - 0s 12ms/step - loss: 0.0123 - accuracy: 0.9989 - val_loss: 0.9364 - val_accuracy: 0.7296\n",
            "Epoch 40/150\n",
            "30/30 [==============================] - 0s 13ms/step - loss: 0.0183 - accuracy: 0.9968 - val_loss: 0.2950 - val_accuracy: 0.9056\n",
            "Epoch 41/150\n",
            "30/30 [==============================] - 0s 13ms/step - loss: 0.0130 - accuracy: 0.9968 - val_loss: 0.4033 - val_accuracy: 0.8498\n",
            "Epoch 42/150\n",
            "30/30 [==============================] - 0s 11ms/step - loss: 0.0178 - accuracy: 0.9914 - val_loss: 0.1962 - val_accuracy: 0.9399\n",
            "Epoch 43/150\n",
            "30/30 [==============================] - 0s 13ms/step - loss: 0.0151 - accuracy: 0.9978 - val_loss: 0.0761 - val_accuracy: 0.9828\n",
            "Epoch 44/150\n",
            "30/30 [==============================] - 0s 12ms/step - loss: 0.0279 - accuracy: 0.9935 - val_loss: 0.0583 - val_accuracy: 0.9871\n",
            "Epoch 45/150\n",
            "30/30 [==============================] - 0s 12ms/step - loss: 0.0208 - accuracy: 0.9946 - val_loss: 0.3270 - val_accuracy: 0.8712\n",
            "Epoch 46/150\n",
            "30/30 [==============================] - 0s 11ms/step - loss: 0.0150 - accuracy: 0.9968 - val_loss: 0.2333 - val_accuracy: 0.9013\n",
            "Epoch 47/150\n",
            "30/30 [==============================] - 0s 12ms/step - loss: 0.0314 - accuracy: 0.9871 - val_loss: 0.1871 - val_accuracy: 0.9099\n",
            "Epoch 48/150\n",
            "30/30 [==============================] - 0s 12ms/step - loss: 0.0155 - accuracy: 0.9957 - val_loss: 0.0564 - val_accuracy: 0.9828\n",
            "Epoch 49/150\n",
            "30/30 [==============================] - 0s 13ms/step - loss: 0.0227 - accuracy: 0.9925 - val_loss: 0.3416 - val_accuracy: 0.8841\n",
            "Epoch 50/150\n",
            "30/30 [==============================] - 0s 13ms/step - loss: 0.0178 - accuracy: 0.9925 - val_loss: 0.0852 - val_accuracy: 0.9700\n",
            "8/8 [==============================] - 0s 4ms/step\n",
            "LSTM-FCN classifier trained, with validation accuracy 0.9914529914529915.\n",
            "Confusion matrix: \n",
            "          Pred:pos  Pred:neg\n",
            "True:pos       115         2\n",
            "True:neg         0       116.\n"
          ]
        }
      ],
      "source": [
        "n_lstmcells = 8\n",
        "\n",
        "# ## 2. LatentCF models\n",
        "# reset seeds for numpy, tensorflow, python random package and python environment seed\n",
        "reset_seeds()\n",
        "\n",
        "###############################################\n",
        "# ## 2.0 LSTM-FCN classifier\n",
        "###############################################\n",
        "# ### LSTM-FCN classifier\n",
        "classifier = LSTMFCNClassifier(\n",
        "    n_timesteps_padded, n_features, n_output=2, n_LSTM_cells=n_lstmcells\n",
        ")\n",
        "\n",
        "optimizer = keras.optimizers.Adam(lr=0.0001)\n",
        "classifier.compile(\n",
        "    optimizer=optimizer, loss=\"binary_crossentropy\", metrics=[\"accuracy\"]\n",
        ")\n",
        "\n",
        "# Define the early stopping criteria\n",
        "early_stopping_accuracy = keras.callbacks.EarlyStopping(\n",
        "    monitor=\"val_accuracy\", patience=30, restore_best_weights=True\n",
        ")\n",
        "# Train the model\n",
        "reset_seeds()\n",
        "logger.info(\"Training log for LSTM-FCN classifier:\")\n",
        "classifier_history = classifier.fit(\n",
        "    X_train_processed_padded,\n",
        "    y_train,\n",
        "    epochs=150,\n",
        "    batch_size=32,\n",
        "    shuffle=True,\n",
        "    verbose=True,\n",
        "    validation_data=(X_test_processed_padded, y_test),\n",
        "    callbacks=[early_stopping_accuracy],\n",
        ")\n",
        "\n",
        "y_pred = classifier.predict(X_test_processed_padded)\n",
        "y_pred_classes = np.argmax(y_pred, axis=1)\n",
        "acc = balanced_accuracy_score(y_true=y_test_classes, y_pred=y_pred_classes)\n",
        "print(f\"LSTM-FCN classifier trained, with validation accuracy {acc}.\")\n",
        "\n",
        "confusion_matrix_df = pd.DataFrame(\n",
        "    confusion_matrix(y_true=y_test_classes, y_pred=y_pred_classes, labels=[1, 0]),\n",
        "    index=[\"True:pos\", \"True:neg\"],\n",
        "    columns=[\"Pred:pos\", \"Pred:neg\"],\n",
        ")\n",
        "print(f\"Confusion matrix: \\n{confusion_matrix_df}.\")"
      ]
    },
    {
      "cell_type": "markdown",
      "id": "598e9e44",
      "metadata": {
        "id": "598e9e44"
      },
      "source": [
        "## 1dCNN search"
      ]
    },
    {
      "cell_type": "code",
      "execution_count": 14,
      "id": "c60c78f9",
      "metadata": {
        "scrolled": true,
        "id": "c60c78f9",
        "outputId": "b188b12f-5157-4a8f-a60c-fed9906fe30e",
        "colab": {
          "base_uri": "https://localhost:8080/"
        }
      },
      "outputs": [
        {
          "output_type": "stream",
          "name": "stderr",
          "text": [
            "WARNING:absl:`lr` is deprecated in Keras optimizer, please use `learning_rate` or use the legacy optimizer, e.g.,tf.keras.optimizers.legacy.Adam.\n"
          ]
        },
        {
          "output_type": "stream",
          "name": "stdout",
          "text": [
            "Epoch 1/50\n",
            "30/30 [==============================] - 3s 23ms/step - loss: 0.1719 - val_loss: 0.0260\n",
            "Epoch 2/50\n",
            "30/30 [==============================] - 0s 11ms/step - loss: 0.0146 - val_loss: 0.0102\n",
            "Epoch 3/50\n",
            "30/30 [==============================] - 0s 12ms/step - loss: 0.0078 - val_loss: 0.0049\n",
            "Epoch 4/50\n",
            "30/30 [==============================] - 0s 8ms/step - loss: 0.0036 - val_loss: 0.0026\n",
            "Epoch 5/50\n",
            "30/30 [==============================] - 0s 8ms/step - loss: 0.0019 - val_loss: 0.0013\n",
            "Epoch 6/50\n",
            "30/30 [==============================] - 0s 8ms/step - loss: 9.3922e-04 - val_loss: 6.6909e-04\n",
            "Epoch 7/50\n",
            "30/30 [==============================] - 0s 9ms/step - loss: 5.6161e-04 - val_loss: 4.5488e-04\n",
            "Epoch 8/50\n",
            "30/30 [==============================] - 0s 8ms/step - loss: 4.1716e-04 - val_loss: 3.6237e-04\n",
            "Epoch 9/50\n",
            "30/30 [==============================] - 0s 8ms/step - loss: 3.3061e-04 - val_loss: 2.9506e-04\n",
            "Epoch 10/50\n",
            "30/30 [==============================] - 0s 8ms/step - loss: 2.6641e-04 - val_loss: 2.2882e-04\n",
            "Epoch 11/50\n",
            "30/30 [==============================] - 0s 8ms/step - loss: 2.1962e-04 - val_loss: 1.9854e-04\n",
            "Epoch 12/50\n",
            "30/30 [==============================] - 0s 8ms/step - loss: 1.8955e-04 - val_loss: 1.7501e-04\n",
            "Epoch 13/50\n",
            "30/30 [==============================] - 0s 8ms/step - loss: 1.6751e-04 - val_loss: 1.5873e-04\n",
            "Epoch 14/50\n",
            "30/30 [==============================] - 0s 8ms/step - loss: 1.5202e-04 - val_loss: 1.4365e-04\n",
            "Epoch 15/50\n",
            "30/30 [==============================] - 0s 8ms/step - loss: 1.4173e-04 - val_loss: 1.3275e-04\n",
            "Epoch 16/50\n",
            "30/30 [==============================] - 0s 8ms/step - loss: 1.3040e-04 - val_loss: 1.2343e-04\n",
            "Epoch 17/50\n",
            "30/30 [==============================] - 0s 8ms/step - loss: 1.1943e-04 - val_loss: 1.1911e-04\n",
            "1dCNN autoencoder trained, with validation loss: 0.00011910798639291897.\n"
          ]
        }
      ],
      "source": [
        "###############################################\n",
        "# ## 2.1 CF search with 1dCNN autoencoder\n",
        "###############################################\n",
        "# ### 1dCNN autoencoder\n",
        "autoencoder = Autoencoder(n_timesteps_padded, n_features)\n",
        "optimizer = keras.optimizers.Adam(lr=0.0005)\n",
        "autoencoder.compile(optimizer=optimizer, loss=\"mse\")\n",
        "\n",
        "# Define the early stopping criteria\n",
        "early_stopping = keras.callbacks.EarlyStopping(\n",
        "    monitor=\"val_loss\", min_delta=0.0001, patience=5, restore_best_weights=True\n",
        ")\n",
        "# Train the model\n",
        "reset_seeds()\n",
        "logger.info(\"Training log for 1dCNN autoencoder:\")\n",
        "autoencoder_history = autoencoder.fit(\n",
        "    X_train_processed_padded,\n",
        "    X_train_processed_padded,\n",
        "    epochs=50,\n",
        "    batch_size=32,\n",
        "    shuffle=True,\n",
        "    verbose=True,\n",
        "    validation_data=(X_test_processed_padded, X_test_processed_padded),\n",
        "    callbacks=[early_stopping],\n",
        ")\n",
        "\n",
        "ae_val_loss = np.min(autoencoder_history.history[\"val_loss\"])\n",
        "print(f\"1dCNN autoencoder trained, with validation loss: {ae_val_loss}.\")\n"
      ]
    },
    {
      "cell_type": "markdown",
      "id": "576d45df",
      "metadata": {
        "id": "576d45df"
      },
      "source": [
        "## CF search, original"
      ]
    },
    {
      "cell_type": "code",
      "source": [
        "import warnings\n",
        "\n",
        "import numpy as np\n",
        "import tensorflow as tf\n",
        "from tensorflow import keras\n",
        "\n",
        "from wildboar.explain import IntervalImportance\n",
        "from LIMESegment.Utils.explanations import LIMESegment\n",
        "\n",
        "def get_global_weights_fixed(\n",
        "    input_samples, input_labels, classifier_model, n_timesteps, n_features, random_state=None,\n",
        "):\n",
        "    n_samples, n_timesteps, n_dims = input_samples.shape  # n_dims=1\n",
        "\n",
        "    class ModelWrapper:\n",
        "        def __init__(self, model, n_timesteps, n_features):\n",
        "            self.model = model\n",
        "            self.fitted_ = False\n",
        "            self.n_timesteps_in_ = n_timesteps\n",
        "            self.n_features_in_ = n_features\n",
        "\n",
        "        def predict(self, X):\n",
        "            p = self.model.predict(X.reshape(n_samples, n_timesteps, 1))\n",
        "            return np.argmax(p, axis=1)\n",
        "\n",
        "        def fit(self, X, y):\n",
        "\n",
        "          self.fitted_ = True\n",
        "          return self.model.fit(X, y)\n",
        "\n",
        "    clf = ModelWrapper(classifier_model, n_timesteps, n_features)\n",
        "\n",
        "    i = IntervalImportance(scoring=\"accuracy\",n_intervals=10, random_state=random_state)\n",
        "    i.fit(clf, input_samples.reshape(input_samples.shape[0], -1), input_labels)\n",
        "\n",
        "    # calculate the threshold of masking, 75 percentile\n",
        "    masking_threshold = np.percentile(i.importances_.mean, 75)\n",
        "    masking_idx = np.where(i.importances_.mean >= masking_threshold)\n",
        "\n",
        "    weighted_steps = np.ones(n_timesteps)\n",
        "    seg_idx = i.components_\n",
        "    for start_idx in masking_idx[0]:\n",
        "        weighted_steps[seg_idx[start_idx][0] : seg_idx[start_idx][1]] = 0\n",
        "\n",
        "    # need to reshape for multiplication in `tf.math.multiply()`\n",
        "    weighted_steps = weighted_steps.reshape(1, n_timesteps, 1)\n",
        "    return weighted_steps"
      ],
      "metadata": {
        "id": "UhFWNPFqnyPV"
      },
      "id": "UhFWNPFqnyPV",
      "execution_count": 15,
      "outputs": []
    },
    {
      "cell_type": "code",
      "execution_count": 16,
      "id": "4184c392",
      "metadata": {
        "id": "4184c392",
        "outputId": "eeb778d4-d8a8-4cb8-b6bb-6ad171422c85",
        "colab": {
          "base_uri": "https://localhost:8080/"
        }
      },
      "outputs": [
        {
          "output_type": "stream",
          "name": "stdout",
          "text": [
            "30/30 [==============================] - 0s 3ms/step\n",
            "30/30 [==============================] - 0s 4ms/step\n",
            "30/30 [==============================] - 0s 4ms/step\n",
            "30/30 [==============================] - 0s 3ms/step\n",
            "30/30 [==============================] - 0s 4ms/step\n",
            "30/30 [==============================] - 0s 4ms/step\n",
            "30/30 [==============================] - 0s 3ms/step\n",
            "30/30 [==============================] - 0s 3ms/step\n",
            "30/30 [==============================] - 0s 4ms/step\n",
            "30/30 [==============================] - 0s 3ms/step\n",
            "30/30 [==============================] - 0s 4ms/step\n",
            "30/30 [==============================] - 0s 4ms/step\n",
            "30/30 [==============================] - 0s 3ms/step\n",
            "30/30 [==============================] - 0s 4ms/step\n",
            "30/30 [==============================] - 0s 4ms/step\n",
            "30/30 [==============================] - 0s 3ms/step\n",
            "30/30 [==============================] - 0s 4ms/step\n",
            "30/30 [==============================] - 0s 4ms/step\n",
            "30/30 [==============================] - 0s 3ms/step\n",
            "30/30 [==============================] - 0s 4ms/step\n",
            "30/30 [==============================] - 0s 3ms/step\n",
            "30/30 [==============================] - 0s 3ms/step\n",
            "30/30 [==============================] - 0s 3ms/step\n",
            "30/30 [==============================] - 0s 4ms/step\n",
            "30/30 [==============================] - 0s 4ms/step\n",
            "30/30 [==============================] - 0s 3ms/step\n",
            "30/30 [==============================] - 0s 3ms/step\n",
            "30/30 [==============================] - 0s 4ms/step\n",
            "30/30 [==============================] - 0s 3ms/step\n",
            "30/30 [==============================] - 0s 3ms/step\n",
            "30/30 [==============================] - 0s 4ms/step\n",
            "30/30 [==============================] - 0s 4ms/step\n",
            "30/30 [==============================] - 0s 4ms/step\n",
            "30/30 [==============================] - 0s 5ms/step\n",
            "30/30 [==============================] - 0s 4ms/step\n",
            "30/30 [==============================] - 0s 4ms/step\n",
            "30/30 [==============================] - 0s 5ms/step\n",
            "30/30 [==============================] - 0s 4ms/step\n",
            "30/30 [==============================] - 0s 3ms/step\n",
            "30/30 [==============================] - 0s 3ms/step\n",
            "30/30 [==============================] - 0s 4ms/step\n",
            "30/30 [==============================] - 0s 4ms/step\n",
            "30/30 [==============================] - 0s 3ms/step\n",
            "30/30 [==============================] - 0s 3ms/step\n",
            "30/30 [==============================] - 0s 4ms/step\n",
            "30/30 [==============================] - 0s 4ms/step\n",
            "30/30 [==============================] - 0s 4ms/step\n",
            "30/30 [==============================] - 0s 4ms/step\n",
            "30/30 [==============================] - 0s 4ms/step\n",
            "30/30 [==============================] - 0s 4ms/step\n",
            "30/30 [==============================] - 0s 3ms/step\n",
            "======================== CF search started, with lr=0.0001.\n",
            "1 samples been transformed.\n",
            "10 samples been transformed, in total.\n",
            "1/1 [==============================] - 0s 46ms/step\n",
            "lr=0.0001 finished. Validity: 0.2, proximity: 0.1554794373542064.\n",
            "======================== CF search started, with lr=0.001.\n",
            "1 samples been transformed.\n",
            "10 samples been transformed, in total.\n",
            "1/1 [==============================] - 0s 34ms/step\n",
            "lr=0.001 finished. Validity: 0.4, proximity: 0.8092086866544793.\n",
            "The best learning rate found is 0.001.\n",
            "1/1 [==============================] - 0s 31ms/step\n"
          ]
        }
      ],
      "source": [
        "from _guided import get_global_weights\n",
        "from help_functions import evaluate2\n",
        "PRED_MARGIN_W_LIST = [1]\n",
        "w_type = \"global\"\n",
        "\n",
        "if w_type == \"global\":\n",
        "    step_weights = get_global_weights_fixed(\n",
        "        X_train_processed_padded,\n",
        "        y_train_classes,\n",
        "        classifier,\n",
        "        n_timesteps,\n",
        "        n_features,\n",
        "        random_state=RANDOM_STATE,\n",
        "    )\n",
        "elif w_type == \"uniform\":\n",
        "    step_weights = np.ones((1, n_timesteps_padded, n_features))\n",
        "elif w_type.lower() == \"local\":\n",
        "    step_weights = \"local\"\n",
        "else:\n",
        "    raise NotImplementedError(\n",
        "        \"A.w_type not implemented, please choose 'local', 'global' or 'uniform'.\"\n",
        "    )\n",
        "\n",
        "### Evaluation metrics\n",
        "for pred_margin_weight in PRED_MARGIN_W_LIST:\n",
        "    logger.info(f\"The current prediction margin weight is {pred_margin_weight}.\")\n",
        "\n",
        "    # Get these instances of negative predictions, which is class abnormal (0); (normal is class 1)\n",
        "    X_pred_neg = X_test_processed_padded[y_pred_classes == neg_label][:10]\n",
        "    y_pred_labels = y_pred_classes[y_pred_classes==neg_label][:10]\n",
        "\n",
        "    lr_list = [0.0001,0.001]\n",
        "    best_lr, best_cf_model, best_cf_samples, _ = find_best_lr(\n",
        "        classifier,\n",
        "        X_pred_neg,\n",
        "        y_pred_labels,\n",
        "        autoencoder=autoencoder,\n",
        "        lr_list=lr_list,\n",
        "        pred_margin_weight=pred_margin_weight,\n",
        "        step_weights=step_weights,\n",
        "        random_state=RANDOM_STATE,\n",
        "    )\n",
        "    print(f\"The best learning rate found is {best_lr}.\")\n",
        "\n",
        "    # predicted probabilities of CFs\n",
        "    z_pred = classifier.predict(best_cf_samples)[:, 1]\n",
        "    if padding_size != 0:\n",
        "        # remove extra paddings after counterfactual generation in 1dCNN autoencoder\n",
        "        best_cf_samples = best_cf_samples[:, :-padding_size, :]\n",
        "        # use the unpadded X for evaluation\n",
        "        X_pred_neg_orignal = X_test_processed[y_pred_classes == neg_label][:10]\n",
        "    else:\n",
        "        X_pred_neg_orignal = X_pred_neg\n",
        "\n",
        "    evaluate_res = evaluate2(\n",
        "        X_pred_neg_orignal, best_cf_samples, z_pred, n_timesteps\n",
        "    )\n",
        "\n"
      ]
    },
    {
      "cell_type": "code",
      "execution_count": 17,
      "id": "a432b662",
      "metadata": {
        "id": "a432b662",
        "outputId": "4a2dcb0c-896d-4b3e-850a-087c4f1c2a23",
        "colab": {
          "base_uri": "https://localhost:8080/"
        }
      },
      "outputs": [
        {
          "output_type": "stream",
          "name": "stdout",
          "text": [
            "Done for CF search [1dCNN autoencoder], pred_margin_weight=1.\n",
            "acc=0.9914529914529915, ae_val_loss = 0.00011910798639291897, best_lr = 0.001, evaluate_res = (0.80560872386997, 0.6, 0.1, 0.48989797), pred_margin_weight = 1\n"
          ]
        }
      ],
      "source": [
        "result_writer.write_result(\n",
        "    \"1dCNN autoencoder\",\n",
        "    acc,\n",
        "    ae_val_loss,\n",
        "    best_lr,\n",
        "    evaluate_res,\n",
        "    pred_margin_weight=pred_margin_weight,\n",
        "    step_weight_type=w_type.lower(),\n",
        ")\n",
        "print(f\"Done for CF search [1dCNN autoencoder], pred_margin_weight={pred_margin_weight}.\")\n",
        "print(f\"acc={acc}, ae_val_loss = {ae_val_loss}, best_lr = {best_lr}, evaluate_res = {evaluate_res}, pred_margin_weight = {pred_margin_weight}\")"
      ]
    },
    {
      "cell_type": "code",
      "execution_count": 18,
      "id": "82d235be",
      "metadata": {
        "id": "82d235be"
      },
      "outputs": [],
      "source": [
        "# Uncomment to visualize the first 5 counterfactual samples\n",
        "# Map the results back to the original scale, for comparison\n",
        "actual_Xs = time_series_revert(X_pred_neg_orignal, n_timesteps=n_timesteps, scaler=trained_scaler)\n",
        "actual_cfs = time_series_revert(best_cf_samples, n_timesteps=n_timesteps, scaler=trained_scaler)"
      ]
    },
    {
      "cell_type": "markdown",
      "id": "e4e6e70d",
      "metadata": {
        "id": "e4e6e70d"
      },
      "source": [
        "### plot for TwoLeadECG"
      ]
    },
    {
      "cell_type": "code",
      "execution_count": 19,
      "id": "76a1f54f",
      "metadata": {
        "id": "76a1f54f"
      },
      "outputs": [],
      "source": [
        "sample_id = 3"
      ]
    },
    {
      "cell_type": "code",
      "execution_count": 20,
      "id": "0d95cf88",
      "metadata": {
        "id": "0d95cf88"
      },
      "outputs": [],
      "source": [
        "original_sample = actual_Xs[sample_id, :]\n",
        "cf_sample = actual_cfs[sample_id, :]"
      ]
    },
    {
      "cell_type": "code",
      "execution_count": 21,
      "id": "b2be787d",
      "metadata": {
        "id": "b2be787d",
        "outputId": "5ef01cb0-b206-49f3-ca26-68c905ebd9ca",
        "colab": {
          "base_uri": "https://localhost:8080/",
          "height": 388
        }
      },
      "outputs": [
        {
          "output_type": "display_data",
          "data": {
            "text/plain": [
              "<Figure size 600x400 with 1 Axes>"
            ],
            "image/png": "[encoded data removed]"
          },
          "metadata": {}
        }
      ],
      "source": [
        "plt.figure(figsize=(6, 4))\n",
        "plt.plot(original_sample, color='b', label=\"Original ECG\")\n",
        "plt.plot(cf_sample, color='r', label=\"Counterfactual\")\n",
        "plt.xlabel(\"Timestep\")\n",
        "plt.ylabel(\"Voltage\")\n",
        "plt.legend()\n",
        "# plt.grid()\n",
        "color = 'lightcoral' # if weight < 0 else 'green'\n",
        "plt.axvspan(0, 82, color=color, alpha=0.05)\n",
        "plt.show()"
      ]
    },
    {
      "cell_type": "code",
      "execution_count": 22,
      "id": "4b7586c7",
      "metadata": {
        "id": "4b7586c7",
        "outputId": "9eed8e2b-29c1-4c68-92cc-2dc2e7cfc60a",
        "colab": {
          "base_uri": "https://localhost:8080/"
        }
      },
      "outputs": [
        {
          "output_type": "stream",
          "name": "stdout",
          "text": [
            "8.983868e-23\n"
          ]
        }
      ],
      "source": [
        "print(z_pred[sample_id])"
      ]
    },
    {
      "cell_type": "markdown",
      "id": "dd8016f0",
      "metadata": {
        "id": "dd8016f0"
      },
      "source": [
        "## NoAE search"
      ]
    },
    {
      "cell_type": "code",
      "execution_count": 23,
      "id": "7f1fda14",
      "metadata": {
        "id": "7f1fda14",
        "outputId": "81ec9acf-df22-4a4a-8eee-4b3ed539144a",
        "colab": {
          "base_uri": "https://localhost:8080/"
        }
      },
      "outputs": [
        {
          "output_type": "stream",
          "name": "stdout",
          "text": [
            "======================== CF search started, with lr=0.001.\n",
            "1 samples been transformed.\n",
            "10 samples been transformed, in total.\n",
            "1/1 [==============================] - 0s 31ms/step\n",
            "lr=0.001 finished. Validity: 0.1, proximity: 0.10977537465003029.\n",
            "The best learning rate found is 0.001.\n",
            "1/1 [==============================] - 0s 28ms/step\n",
            "Done for CF search [No autoencoder], pred_margin_weight=1.\n"
          ]
        }
      ],
      "source": [
        "###############################################\n",
        "# ## 2.3 CF search with no autoencoder\n",
        "###############################################\n",
        "for pred_margin_weight in PRED_MARGIN_W_LIST:\n",
        "    logger.info(f\"The current prediction margin weight is {pred_margin_weight}.\")\n",
        "\n",
        "    # Get these instances of negative predictions, which is class abnormal (0); (normal is class 1)\n",
        "    X_pred_neg = X_test_processed_padded[y_pred_classes == neg_label][:10]\n",
        "    y_pred_neg = y_pred_classes[y_pred_classes == neg_label][:10]\n",
        "\n",
        "    lr_list3 = [0.001]\n",
        "    best_lr3, best_cf_model3, best_cf_samples3, _ = find_best_lr(\n",
        "        classifier,\n",
        "        X_pred_neg,\n",
        "        y_pred_neg,\n",
        "        autoencoder=None,\n",
        "        lr_list=lr_list3,\n",
        "        pred_margin_weight=pred_margin_weight,\n",
        "        step_weights=step_weights,\n",
        "        random_state=RANDOM_STATE,\n",
        "    )\n",
        "    print(f\"The best learning rate found is {best_lr3}.\")\n",
        "\n",
        "    # ### Evaluation metrics\n",
        "    # predicted probabilities of CFs\n",
        "    z_pred3 = classifier.predict(best_cf_samples3)[:, 1]\n",
        "    if padding_size != 0:\n",
        "        # remove extra paddings after counterfactual generation\n",
        "        best_cf_samples3 = best_cf_samples3[:, :-padding_size, :]\n",
        "        # use the unpadded X for evaluation\n",
        "        X_pred_neg_orignal = X_test_processed[y_pred_classes == neg_label][:10]\n",
        "    else:\n",
        "        X_pred_neg_orignal = X_pred_neg\n",
        "\n",
        "    evaluate_res3 = evaluate2(\n",
        "        X_pred_neg_orignal, best_cf_samples3, z_pred3, n_timesteps\n",
        "    )\n",
        "\n",
        "    result_writer.write_result(\n",
        "        \"No autoencoder\",\n",
        "        acc,\n",
        "        0,\n",
        "        best_lr3,\n",
        "        evaluate_res3,\n",
        "        pred_margin_weight=pred_margin_weight,\n",
        "        step_weight_type=w_type.lower(),\n",
        "    )\n",
        "    print(f\"Done for CF search [No autoencoder], pred_margin_weight={pred_margin_weight}.\")"
      ]
    },
    {
      "cell_type": "code",
      "execution_count": 24,
      "id": "87ca1e34",
      "metadata": {
        "id": "87ca1e34"
      },
      "outputs": [],
      "source": [
        "# Uncomment to visualize the first 5 counterfactual samples\n",
        "# Map the results back to the original scale, for comparison\n",
        "actual_Xs = time_series_revert(X_pred_neg_orignal, n_timesteps=n_timesteps, scaler=trained_scaler)\n",
        "actual_cfs3 = time_series_revert(best_cf_samples3, n_timesteps=n_timesteps, scaler=trained_scaler)"
      ]
    },
    {
      "cell_type": "code",
      "execution_count": 25,
      "id": "81fd9b35",
      "metadata": {
        "scrolled": false,
        "id": "81fd9b35",
        "outputId": "2a9fac88-8d91-4f14-a67e-f4e1d78312b8",
        "colab": {
          "base_uri": "https://localhost:8080/",
          "height": 388
        }
      },
      "outputs": [
        {
          "output_type": "display_data",
          "data": {
            "text/plain": [
              "<Figure size 600x400 with 1 Axes>"
            ],
            "image/png": "[encoded data removed]"
          },
          "metadata": {}
        }
      ],
      "source": [
        "original_sample = actual_Xs[sample_id, :]\n",
        "cf_sample = actual_cfs3[sample_id, :]\n",
        "\n",
        "plt.figure(figsize=(6, 4))\n",
        "plt.plot(original_sample, color='b', label=\"Original ECG\")\n",
        "plt.plot(cf_sample, color='r', label=\"Counterfactual\")\n",
        "plt.xlabel(\"Timestep\")\n",
        "plt.ylabel(\"Voltage\")\n",
        "plt.legend()\n",
        "# plt.grid()\n",
        "color = 'lightcoral' # if weight < 0 else 'green'\n",
        "plt.axvspan(0, 82, color=color, alpha=0.05)\n",
        "plt.show()"
      ]
    },
    {
      "cell_type": "code",
      "execution_count": 26,
      "id": "8b9c41fe",
      "metadata": {
        "id": "8b9c41fe",
        "outputId": "ce1ae8c1-5da0-4b04-f763-744b8fa1a3a2",
        "colab": {
          "base_uri": "https://localhost:8080/"
        }
      },
      "outputs": [
        {
          "output_type": "stream",
          "name": "stdout",
          "text": [
            "0.5006357\n"
          ]
        }
      ],
      "source": [
        "print(z_pred3[sample_id])"
      ]
    },
    {
      "cell_type": "markdown",
      "id": "7e21e9e9",
      "metadata": {
        "id": "7e21e9e9"
      },
      "source": [
        "## global, pred_margin_weight = 0.5"
      ]
    },
    {
      "cell_type": "code",
      "execution_count": 27,
      "id": "a1a08016",
      "metadata": {
        "id": "a1a08016",
        "outputId": "c959d130-101d-481a-c3bf-7611a835f43c",
        "colab": {
          "base_uri": "https://localhost:8080/"
        }
      },
      "outputs": [
        {
          "output_type": "stream",
          "name": "stdout",
          "text": [
            "30/30 [==============================] - 0s 4ms/step\n",
            "30/30 [==============================] - 0s 4ms/step\n",
            "30/30 [==============================] - 0s 3ms/step\n",
            "30/30 [==============================] - 0s 3ms/step\n",
            "30/30 [==============================] - 0s 4ms/step\n",
            "30/30 [==============================] - 0s 4ms/step\n",
            "30/30 [==============================] - 0s 3ms/step\n",
            "30/30 [==============================] - 0s 4ms/step\n",
            "30/30 [==============================] - 0s 3ms/step\n",
            "30/30 [==============================] - 0s 4ms/step\n",
            "30/30 [==============================] - 0s 3ms/step\n",
            "30/30 [==============================] - 0s 3ms/step\n",
            "30/30 [==============================] - 0s 4ms/step\n",
            "30/30 [==============================] - 0s 4ms/step\n",
            "30/30 [==============================] - 0s 4ms/step\n",
            "30/30 [==============================] - 0s 3ms/step\n",
            "30/30 [==============================] - 0s 4ms/step\n",
            "30/30 [==============================] - 0s 3ms/step\n",
            "30/30 [==============================] - 0s 3ms/step\n",
            "30/30 [==============================] - 0s 3ms/step\n",
            "30/30 [==============================] - 0s 4ms/step\n",
            "30/30 [==============================] - 0s 4ms/step\n",
            "30/30 [==============================] - 0s 3ms/step\n",
            "30/30 [==============================] - 0s 3ms/step\n",
            "30/30 [==============================] - 0s 4ms/step\n",
            "30/30 [==============================] - 0s 4ms/step\n",
            "30/30 [==============================] - 0s 3ms/step\n",
            "30/30 [==============================] - 0s 3ms/step\n",
            "30/30 [==============================] - 0s 4ms/step\n",
            "30/30 [==============================] - 0s 4ms/step\n",
            "30/30 [==============================] - 0s 4ms/step\n",
            "30/30 [==============================] - 0s 4ms/step\n",
            "30/30 [==============================] - 0s 3ms/step\n",
            "30/30 [==============================] - 0s 5ms/step\n",
            "30/30 [==============================] - 0s 5ms/step\n",
            "30/30 [==============================] - 0s 4ms/step\n",
            "30/30 [==============================] - 0s 4ms/step\n",
            "30/30 [==============================] - 0s 5ms/step\n",
            "30/30 [==============================] - 0s 5ms/step\n",
            "30/30 [==============================] - 0s 5ms/step\n",
            "30/30 [==============================] - 0s 3ms/step\n",
            "30/30 [==============================] - 0s 3ms/step\n",
            "30/30 [==============================] - 0s 4ms/step\n",
            "30/30 [==============================] - 0s 3ms/step\n",
            "30/30 [==============================] - 0s 3ms/step\n",
            "30/30 [==============================] - 0s 3ms/step\n",
            "30/30 [==============================] - 0s 3ms/step\n",
            "30/30 [==============================] - 0s 3ms/step\n",
            "30/30 [==============================] - 0s 4ms/step\n",
            "30/30 [==============================] - 0s 4ms/step\n",
            "30/30 [==============================] - 0s 3ms/step\n",
            "======================== CF search started, with lr=0.0001.\n",
            "1 samples been transformed.\n",
            "10 samples been transformed, in total.\n",
            "1/1 [==============================] - 0s 31ms/step\n",
            "lr=0.0001 finished. Validity: 0.1, proximity: 0.1578549206995711.\n",
            "The best learning rate found is 0.0001.\n",
            "1/1 [==============================] - 0s 30ms/step\n"
          ]
        }
      ],
      "source": [
        "from _guided import get_global_weights\n",
        "PRED_MARGIN_W_LIST = [0.5]\n",
        "w_type = \"global\"\n",
        "\n",
        "if w_type == \"global\":\n",
        "    step_weights = get_global_weights_fixed(\n",
        "        X_train_processed_padded,\n",
        "        y_train_classes,\n",
        "        classifier,\n",
        "        n_timesteps= n_timesteps,\n",
        "        n_features=n_features,\n",
        "        random_state=RANDOM_STATE,\n",
        "    )\n",
        "elif w_type == \"uniform\":\n",
        "    step_weights = np.ones((1, n_timesteps_padded, n_features))\n",
        "elif w_type.lower() == \"local\":\n",
        "    step_weights = \"local\"\n",
        "else:\n",
        "    raise NotImplementedError(\n",
        "        \"A.w_type not implemented, please choose 'local', 'global' or 'uniform'.\"\n",
        "    )\n",
        "\n",
        "### Evaluation metrics\n",
        "for pred_margin_weight in PRED_MARGIN_W_LIST:\n",
        "    logger.info(f\"The current prediction margin weight is {pred_margin_weight}.\")\n",
        "\n",
        "    # Get these instances of negative predictions, which is class abnormal (0); (normal is class 1)\n",
        "    X_pred_neg = X_test_processed_padded[y_pred_classes == neg_label][:10]\n",
        "    y_pred_neg = y_pred_classes[y_pred_classes == neg_label][:10]\n",
        "    lr_list = [0.0001]\n",
        "    best_lr, best_cf_model, best_cf_samples, _ = find_best_lr(\n",
        "        classifier,\n",
        "        X_pred_neg,\n",
        "        y_pred_neg,\n",
        "        autoencoder=autoencoder,\n",
        "        lr_list=lr_list,\n",
        "        pred_margin_weight=pred_margin_weight,\n",
        "        step_weights=step_weights,\n",
        "        random_state=RANDOM_STATE,\n",
        "    )\n",
        "    print(f\"The best learning rate found is {best_lr}.\")\n",
        "\n",
        "    # predicted probabilities of CFs\n",
        "    z_pred = classifier.predict(best_cf_samples)[:, 1]\n",
        "    if padding_size != 0:\n",
        "        # remove extra paddings after counterfactual generation in 1dCNN autoencoder\n",
        "        best_cf_samples = best_cf_samples[:, :-padding_size, :]\n",
        "        # use the unpadded X for evaluation\n",
        "        X_pred_neg_orignal = X_test_processed[y_pred_classes == neg_label][:10]\n",
        "    else:\n",
        "        X_pred_neg_orignal = X_pred_neg\n",
        "\n",
        "    evaluate_res = evaluate2(\n",
        "        X_pred_neg_orignal, best_cf_samples, z_pred, n_timesteps\n",
        "    )\n",
        "\n"
      ]
    },
    {
      "cell_type": "code",
      "execution_count": 28,
      "id": "7453bccf",
      "metadata": {
        "id": "7453bccf",
        "outputId": "1cdc7e86-7d5a-4221-e1d1-f47c80828fbc",
        "colab": {
          "base_uri": "https://localhost:8080/"
        }
      },
      "outputs": [
        {
          "output_type": "stream",
          "name": "stdout",
          "text": [
            "Done for CF search [1dCNN autoencoder], pred_margin_weight=0.5.\n"
          ]
        }
      ],
      "source": [
        "result_writer.write_result(\n",
        "    \"1dCNN autoencoder\",\n",
        "    acc,\n",
        "    ae_val_loss,\n",
        "    best_lr,\n",
        "    evaluate_res,\n",
        "    pred_margin_weight=pred_margin_weight,\n",
        "    step_weight_type=w_type.lower(),\n",
        ")\n",
        "print(f\"Done for CF search [1dCNN autoencoder], pred_margin_weight={pred_margin_weight}.\")\n"
      ]
    },
    {
      "cell_type": "code",
      "execution_count": 29,
      "id": "79652cbd",
      "metadata": {
        "id": "79652cbd"
      },
      "outputs": [],
      "source": [
        "# Uncomment to visualize the first 5 counterfactual samples\n",
        "# Map the results back to the original scale, for comparison\n",
        "actual_Xs = time_series_revert(X_pred_neg_orignal, n_timesteps=n_timesteps, scaler=trained_scaler)\n",
        "actual_cfs = time_series_revert(best_cf_samples, n_timesteps=n_timesteps, scaler=trained_scaler)"
      ]
    },
    {
      "cell_type": "markdown",
      "id": "824621c9",
      "metadata": {
        "id": "824621c9"
      },
      "source": [
        "### plot for TwoLeadECG"
      ]
    },
    {
      "cell_type": "code",
      "execution_count": 30,
      "id": "0b32072b",
      "metadata": {
        "id": "0b32072b"
      },
      "outputs": [],
      "source": [
        "original_sample = actual_Xs[sample_id, :]\n",
        "cf_sample = actual_cfs[sample_id, :]"
      ]
    },
    {
      "cell_type": "code",
      "execution_count": 31,
      "id": "60722cbb",
      "metadata": {
        "id": "60722cbb",
        "outputId": "4b99f0a7-1239-4e62-9d49-1a08720c2da6",
        "colab": {
          "base_uri": "https://localhost:8080/",
          "height": 388
        }
      },
      "outputs": [
        {
          "output_type": "display_data",
          "data": {
            "text/plain": [
              "<Figure size 600x400 with 1 Axes>"
            ],
            "image/png": "[encoded data removed]"
          },
          "metadata": {}
        }
      ],
      "source": [
        "plt.figure(figsize=(6, 4))\n",
        "plt.plot(original_sample, color='b', label=\"Original ECG\")\n",
        "plt.plot(cf_sample, color='r', label=\"Counterfactual\")\n",
        "plt.xlabel(\"Timestep\")\n",
        "plt.ylabel(\"Voltage\")\n",
        "plt.legend()\n",
        "plt.grid()\n",
        "plt.show()"
      ]
    },
    {
      "cell_type": "code",
      "execution_count": 32,
      "id": "d376469d",
      "metadata": {
        "id": "d376469d",
        "outputId": "05cc2786-5ed7-464d-d717-59a9b909c8ca",
        "colab": {
          "base_uri": "https://localhost:8080/"
        }
      },
      "outputs": [
        {
          "output_type": "stream",
          "name": "stdout",
          "text": [
            "0.56431085\n"
          ]
        }
      ],
      "source": [
        "print(z_pred[sample_id])"
      ]
    },
    {
      "cell_type": "code",
      "source": [
        " X_train_processed_padded.reshape(X_train_processed_padded.shape[0], -1).shape\n",
        " y_train_classes.shape"
      ],
      "metadata": {
        "id": "9Jz8PvKBOLr7",
        "outputId": "0be7fdcc-b9d2-4919-9d0b-bba6cd902c90",
        "colab": {
          "base_uri": "https://localhost:8080/"
        }
      },
      "id": "9Jz8PvKBOLr7",
      "execution_count": 33,
      "outputs": [
        {
          "output_type": "execute_result",
          "data": {
            "text/plain": [
              "(930,)"
            ]
          },
          "metadata": {},
          "execution_count": 33
        }
      ]
    },
    {
      "cell_type": "code",
      "execution_count": 34,
      "id": "f3e29618",
      "metadata": {
        "id": "f3e29618",
        "outputId": "859678f1-9103-4221-debb-7e21a7f2883c",
        "colab": {
          "base_uri": "https://localhost:8080/",
          "height": 1000
        }
      },
      "outputs": [
        {
          "output_type": "stream",
          "name": "stdout",
          "text": [
            "30/30 [==============================] - 0s 3ms/step\n",
            "30/30 [==============================] - 0s 4ms/step\n",
            "30/30 [==============================] - 0s 4ms/step\n",
            "30/30 [==============================] - 0s 3ms/step\n",
            "30/30 [==============================] - 0s 4ms/step\n",
            "30/30 [==============================] - 0s 3ms/step\n",
            "30/30 [==============================] - 0s 4ms/step\n",
            "30/30 [==============================] - 0s 4ms/step\n",
            "30/30 [==============================] - 0s 3ms/step\n",
            "30/30 [==============================] - 0s 4ms/step\n",
            "30/30 [==============================] - 0s 3ms/step\n",
            "30/30 [==============================] - 0s 3ms/step\n",
            "30/30 [==============================] - 0s 3ms/step\n",
            "30/30 [==============================] - 0s 4ms/step\n",
            "30/30 [==============================] - 0s 3ms/step\n",
            "30/30 [==============================] - 0s 4ms/step\n",
            "30/30 [==============================] - 0s 3ms/step\n",
            "30/30 [==============================] - 0s 4ms/step\n",
            "30/30 [==============================] - 0s 3ms/step\n",
            "30/30 [==============================] - 0s 3ms/step\n",
            "30/30 [==============================] - 0s 3ms/step\n",
            "30/30 [==============================] - 0s 3ms/step\n",
            "30/30 [==============================] - 0s 4ms/step\n",
            "30/30 [==============================] - 0s 3ms/step\n",
            "30/30 [==============================] - 0s 3ms/step\n",
            "30/30 [==============================] - 0s 3ms/step\n",
            "30/30 [==============================] - 0s 3ms/step\n",
            "30/30 [==============================] - 0s 3ms/step\n",
            "30/30 [==============================] - 0s 3ms/step\n",
            "30/30 [==============================] - 0s 3ms/step\n",
            "30/30 [==============================] - 0s 4ms/step\n",
            "30/30 [==============================] - 0s 3ms/step\n",
            "30/30 [==============================] - 0s 3ms/step\n",
            "30/30 [==============================] - 0s 4ms/step\n",
            "30/30 [==============================] - 0s 4ms/step\n",
            "30/30 [==============================] - 0s 5ms/step\n",
            "30/30 [==============================] - 0s 4ms/step\n",
            "30/30 [==============================] - 0s 5ms/step\n",
            "30/30 [==============================] - 0s 5ms/step\n",
            "30/30 [==============================] - 0s 5ms/step\n",
            "30/30 [==============================] - 0s 5ms/step\n",
            "30/30 [==============================] - 0s 4ms/step\n",
            "30/30 [==============================] - 0s 5ms/step\n",
            "30/30 [==============================] - 0s 3ms/step\n",
            "30/30 [==============================] - 0s 3ms/step\n",
            "30/30 [==============================] - 0s 4ms/step\n",
            "30/30 [==============================] - 0s 4ms/step\n",
            "30/30 [==============================] - 0s 3ms/step\n",
            "30/30 [==============================] - 0s 3ms/step\n",
            "30/30 [==============================] - 0s 4ms/step\n",
            "30/30 [==============================] - 0s 3ms/step\n"
          ]
        },
        {
          "output_type": "execute_result",
          "data": {
            "text/plain": [
              "IntervalImportance(n_intervals=10, random_state=39, scoring='accuracy')"
            ],
            "text/html": [
              "<style>#sk-container-id-1 {color: black;background-color: white;}#sk-container-id-1 pre{padding: 0;}#sk-container-id-1 div.sk-toggleable {background-color: white;}#sk-container-id-1 label.sk-toggleable__label {cursor: pointer;display: block;width: 100%;margin-bottom: 0;padding: 0.3em;box-sizing: border-box;text-align: center;}#sk-container-id-1 label.sk-toggleable__label-arrow:before {content: \"▸\";float: left;margin-right: 0.25em;color: #696969;}#sk-container-id-1 label.sk-toggleable__label-arrow:hover:before {color: black;}#sk-container-id-1 div.sk-estimator:hover label.sk-toggleable__label-arrow:before {color: black;}#sk-container-id-1 div.sk-toggleable__content {max-height: 0;max-width: 0;overflow: hidden;text-align: left;background-color: #f0f8ff;}#sk-container-id-1 div.sk-toggleable__content pre {margin: 0.2em;color: black;border-radius: 0.25em;background-color: #f0f8ff;}#sk-container-id-1 input.sk-toggleable__control:checked~div.sk-toggleable__content {max-height: 200px;max-width: 100%;overflow: auto;}#sk-container-id-1 input.sk-toggleable__control:checked~label.sk-toggleable__label-arrow:before {content: \"▾\";}#sk-container-id-1 div.sk-estimator input.sk-toggleable__control:checked~label.sk-toggleable__label {background-color: #d4ebff;}#sk-container-id-1 div.sk-label input.sk-toggleable__control:checked~label.sk-toggleable__label {background-color: #d4ebff;}#sk-container-id-1 input.sk-hidden--visually {border: 0;clip: rect(1px 1px 1px 1px);clip: rect(1px, 1px, 1px, 1px);height: 1px;margin: -1px;overflow: hidden;padding: 0;position: absolute;width: 1px;}#sk-container-id-1 div.sk-estimator {font-family: monospace;background-color: #f0f8ff;border: 1px dotted black;border-radius: 0.25em;box-sizing: border-box;margin-bottom: 0.5em;}#sk-container-id-1 div.sk-estimator:hover {background-color: #d4ebff;}#sk-container-id-1 div.sk-parallel-item::after {content: \"\";width: 100%;border-bottom: 1px solid gray;flex-grow: 1;}#sk-container-id-1 div.sk-label:hover label.sk-toggleable__label {background-color: #d4ebff;}#sk-container-id-1 div.sk-serial::before {content: \"\";position: absolute;border-left: 1px solid gray;box-sizing: border-box;top: 0;bottom: 0;left: 50%;z-index: 0;}#sk-container-id-1 div.sk-serial {display: flex;flex-direction: column;align-items: center;background-color: white;padding-right: 0.2em;padding-left: 0.2em;position: relative;}#sk-container-id-1 div.sk-item {position: relative;z-index: 1;}#sk-container-id-1 div.sk-parallel {display: flex;align-items: stretch;justify-content: center;background-color: white;position: relative;}#sk-container-id-1 div.sk-item::before, #sk-container-id-1 div.sk-parallel-item::before {content: \"\";position: absolute;border-left: 1px solid gray;box-sizing: border-box;top: 0;bottom: 0;left: 50%;z-index: -1;}#sk-container-id-1 div.sk-parallel-item {display: flex;flex-direction: column;z-index: 1;position: relative;background-color: white;}#sk-container-id-1 div.sk-parallel-item:first-child::after {align-self: flex-end;width: 50%;}#sk-container-id-1 div.sk-parallel-item:last-child::after {align-self: flex-start;width: 50%;}#sk-container-id-1 div.sk-parallel-item:only-child::after {width: 0;}#sk-container-id-1 div.sk-dashed-wrapped {border: 1px dashed gray;margin: 0 0.4em 0.5em 0.4em;box-sizing: border-box;padding-bottom: 0.4em;background-color: white;}#sk-container-id-1 div.sk-label label {font-family: monospace;font-weight: bold;display: inline-block;line-height: 1.2em;}#sk-container-id-1 div.sk-label-container {text-align: center;}#sk-container-id-1 div.sk-container {/* jupyter's `normalize.less` sets `[hidden] { display: none; }` but bootstrap.min.css set `[hidden] { display: none !important; }` so we also need the `!important` here to be able to override the default hidden behavior on the sphinx rendered scikit-learn.org. See: https://github.com/scikit-learn/scikit-learn/issues/21755 */display: inline-block !important;position: relative;}#sk-container-id-1 div.sk-text-repr-fallback {display: none;}</style><div id=\"sk-container-id-1\" class=\"sk-top-container\"><div class=\"sk-text-repr-fallback\"><pre>IntervalImportance(n_intervals=10, random_state=39, scoring=&#x27;accuracy&#x27;)</pre><b>In a Jupyter environment, please rerun this cell to show the HTML representation or trust the notebook. <br />On GitHub, the HTML representation is unable to render, please try loading this page with nbviewer.org.</b></div><div class=\"sk-container\" hidden><div class=\"sk-item\"><div class=\"sk-estimator sk-toggleable\"><input class=\"sk-toggleable__control sk-hidden--visually\" id=\"sk-estimator-id-1\" type=\"checkbox\" checked><label for=\"sk-estimator-id-1\" class=\"sk-toggleable__label sk-toggleable__label-arrow\">IntervalImportance</label><div class=\"sk-toggleable__content\"><pre>IntervalImportance(n_intervals=10, random_state=39, scoring=&#x27;accuracy&#x27;)</pre></div></div></div></div></div>"
            ]
          },
          "metadata": {},
          "execution_count": 34
        }
      ],
      "source": [
        "from wildboar.explain import *\n",
        "\n",
        "class ModelWrapper:\n",
        "    def __init__(self, model, n_timesteps, n_features):\n",
        "        self.model = model\n",
        "        self.fitted_ = False\n",
        "        self.n_timesteps_in_ = n_timesteps_padded\n",
        "        self.n_features_in_ = n_features\n",
        "\n",
        "    def predict(self, X):\n",
        "        p = self.model.predict(X.reshape(X.shape[0], -1, 1))\n",
        "        return np.argmax(p, axis=1) # I think this would work?\n",
        "\n",
        "    def fit(self, X, y):\n",
        "        self.fitted_ = True\n",
        "        return self.model.fit(X, y)\n",
        "\n",
        "clf = ModelWrapper(classifier, n_timesteps_padded, n_features)\n",
        "\n",
        "i = IntervalImportance(scoring=\"accuracy\", n_intervals=10, random_state=RANDOM_STATE)\n",
        "i.fit(clf, X_train_processed_padded.reshape(X_train_processed_padded.shape[0], -1), y_train_classes)"
      ]
    },
    {
      "cell_type": "code",
      "execution_count": 35,
      "id": "ca1f6070",
      "metadata": {
        "id": "ca1f6070",
        "outputId": "c75a01af-b565-494d-b886-1d3891bd2160",
        "colab": {
          "base_uri": "https://localhost:8080/"
        }
      },
      "outputs": [
        {
          "output_type": "stream",
          "name": "stdout",
          "text": [
            "[0.08301075 0.16215054 0.16645161 0.21827957 0.16451613 0.15892473\n",
            " 0.01397849 0.01096774 0.00645161 0.00580645]\n"
          ]
        }
      ],
      "source": [
        "print(i.importances_.mean)"
      ]
    },
    {
      "cell_type": "code",
      "execution_count": 36,
      "id": "8f2de732",
      "metadata": {
        "id": "8f2de732"
      },
      "outputs": [],
      "source": [
        "seg_idx = i.components_\n",
        "seg_imp = i.importances_.mean"
      ]
    },
    {
      "cell_type": "code",
      "execution_count": 37,
      "id": "af6d7481",
      "metadata": {
        "id": "af6d7481",
        "outputId": "d9c22bec-5512-4566-d1dc-2516ceb9d39b",
        "colab": {
          "base_uri": "https://localhost:8080/"
        }
      },
      "outputs": [
        {
          "output_type": "stream",
          "name": "stdout",
          "text": [
            "0.16392473118279577\n",
            "(array([2, 3, 4]),)\n",
            "(84,)\n"
          ]
        }
      ],
      "source": [
        "# calculate the threshold of masking, 75 percentile\n",
        "masking_threshold = np.percentile(seg_imp, 75)\n",
        "# masking_threshold = np.percentile(i.importances_.mean, 25)\n",
        "print(masking_threshold)\n",
        "masking_idx = np.where(seg_imp >= masking_threshold)\n",
        "print(masking_idx)\n",
        "weighted_steps = np.ones(X_test_processed_padded.shape[1])\n",
        "print(weighted_steps.shape)\n",
        "\n",
        "for start_idx in masking_idx[0]:\n",
        "    weighted_steps[seg_idx[start_idx][0] : seg_idx[start_idx][1]] = 0\n"
      ]
    },
    {
      "cell_type": "code",
      "execution_count": 38,
      "id": "5214cafb",
      "metadata": {
        "id": "5214cafb",
        "outputId": "62d4ed3d-e077-4463-a717-8ac608b210b7",
        "colab": {
          "base_uri": "https://localhost:8080/"
        }
      },
      "outputs": [
        {
          "output_type": "execute_result",
          "data": {
            "text/plain": [
              "0.16392473118279577"
            ]
          },
          "metadata": {},
          "execution_count": 38
        }
      ],
      "source": [
        "masking_threshold"
      ]
    },
    {
      "cell_type": "code",
      "execution_count": 39,
      "id": "b63397e5",
      "metadata": {
        "id": "b63397e5",
        "outputId": "cab91463-bff8-4a79-c87a-30a386f19b2a",
        "colab": {
          "base_uri": "https://localhost:8080/",
          "height": 552
        }
      },
      "outputs": [
        {
          "output_type": "stream",
          "name": "stdout",
          "text": [
            "0, 9: 0.08301075268817208\n",
            "9, 18: 0.16215053763440868\n",
            "18, 27: 0.16645161290322588\n",
            "27, 36: 0.21827956989247319\n",
            "36, 44: 0.16451612903225815\n",
            "44, 52: 0.15892473118279576\n",
            "52, 60: 0.01397849462365599\n",
            "60, 68: 0.010967741935483933\n",
            "68, 76: 0.006451612903225867\n"
          ]
        },
        {
          "output_type": "display_data",
          "data": {
            "text/plain": [
              "<Figure size 600x400 with 1 Axes>"
            ],
            "image/png": "[encoded data removed]"
          },
          "metadata": {}
        }
      ],
      "source": [
        "import math\n",
        "\n",
        "plt.figure(figsize=(6, 4))\n",
        "plt.plot(original_sample, color='b', label=\"Original ECG\")\n",
        "plt.plot(cf_sample, color='r', label=\"Counterfactual\")\n",
        "# plt.plot(np.mean(X_test[y_test_classes == 1], axis=0), color='green', label='Mean of other class')\n",
        "# plt.legend(loc='lower left')\n",
        "plt.xlabel(\"Timestep\")\n",
        "plt.ylabel(\"Voltage\")\n",
        "plt.legend()\n",
        "\n",
        "for i in range(len(seg_idx)-1):\n",
        "    weight = seg_imp[i]\n",
        "    start = seg_idx[i][0]\n",
        "    end = seg_idx[i+1][0]\n",
        "    print(f'{start}, {end}: {weight}')\n",
        "    if weight <= masking_threshold:\n",
        "        continue\n",
        "    color = 'lightcoral' # if weight < 0 else 'green'\n",
        "    plt.axvspan(start, end, color=color, alpha=abs(weight)*0.5)\n",
        "plt.xlabel(\"Timestep\")\n",
        "plt.ylabel(\"Voltage\")\n",
        "# plt.grid()\n",
        "plt.show()\n"
      ]
    },
    {
      "cell_type": "markdown",
      "id": "7276f7af",
      "metadata": {
        "id": "7276f7af"
      },
      "source": [
        "## NoAE search"
      ]
    },
    {
      "cell_type": "code",
      "execution_count": 40,
      "id": "a3b3609b",
      "metadata": {
        "id": "a3b3609b",
        "outputId": "b06a945d-5c62-431b-a03e-302822062b30",
        "colab": {
          "base_uri": "https://localhost:8080/"
        }
      },
      "outputs": [
        {
          "output_type": "stream",
          "name": "stdout",
          "text": [
            "======================== CF search started, with lr=0.001.\n",
            "1 samples been transformed.\n",
            "10 samples been transformed, in total.\n",
            "1/1 [==============================] - 0s 42ms/step\n",
            "lr=0.001 finished. Validity: 0.0, proximity: 0.11444377071471452.\n",
            "The best learning rate found is 0.001.\n",
            "1/1 [==============================] - 0s 60ms/step\n",
            "Done for CF search [No autoencoder], pred_margin_weight=0.5.\n"
          ]
        }
      ],
      "source": [
        "###############################################\n",
        "# ## 2.3 CF search with no autoencoder\n",
        "###############################################\n",
        "for pred_margin_weight in PRED_MARGIN_W_LIST:\n",
        "    logger.info(f\"The current prediction margin weight is {pred_margin_weight}.\")\n",
        "\n",
        "    # Get these instances of negative predictions, which is class abnormal (0); (normal is class 1)\n",
        "    X_pred_neg = X_test_processed_padded[y_pred_classes == neg_label][:10]\n",
        "    y_pred_neg = y_pred_classes[y_pred_classes == neg_label][:10]\n",
        "\n",
        "    lr_list3 = [0.001]\n",
        "    best_lr3, best_cf_model3, best_cf_samples3, _ = find_best_lr(\n",
        "        classifier,\n",
        "        X_pred_neg,\n",
        "        y_pred_neg,\n",
        "        autoencoder=None,\n",
        "        lr_list=lr_list3,\n",
        "        pred_margin_weight=pred_margin_weight,\n",
        "        step_weights=step_weights,\n",
        "        random_state=RANDOM_STATE,\n",
        "    )\n",
        "    print(f\"The best learning rate found is {best_lr3}.\")\n",
        "\n",
        "    # ### Evaluation metrics\n",
        "    # predicted probabilities of CFs\n",
        "    z_pred3 = classifier.predict(best_cf_samples3)[:, 1]\n",
        "    if padding_size != 0:\n",
        "        # remove extra paddings after counterfactual generation\n",
        "        best_cf_samples3 = best_cf_samples3[:, :-padding_size, :]\n",
        "        # use the unpadded X for evaluation\n",
        "        X_pred_neg_orignal = X_test_processed[y_pred_classes == neg_label][:10]\n",
        "    else:\n",
        "        X_pred_neg_orignal = X_pred_neg\n",
        "\n",
        "    evaluate_res3 = evaluate2(\n",
        "        X_pred_neg_orignal, best_cf_samples3, z_pred3, n_timesteps\n",
        "    )\n",
        "\n",
        "    result_writer.write_result(\n",
        "        \"No autoencoder\",\n",
        "        acc,\n",
        "        0,\n",
        "        best_lr3,\n",
        "        evaluate_res3,\n",
        "        pred_margin_weight=pred_margin_weight,\n",
        "        step_weight_type=w_type.lower(),\n",
        "    )\n",
        "    print(f\"Done for CF search [No autoencoder], pred_margin_weight={pred_margin_weight}.\")"
      ]
    },
    {
      "cell_type": "code",
      "execution_count": 41,
      "id": "761e7c5d",
      "metadata": {
        "id": "761e7c5d"
      },
      "outputs": [],
      "source": [
        "# Uncomment to visualize the first 5 counterfactual samples\n",
        "# Map the results back to the original scale, for comparison\n",
        "actual_Xs = time_series_revert(X_pred_neg_orignal, n_timesteps=n_timesteps, scaler=trained_scaler)\n",
        "actual_cfs3 = time_series_revert(best_cf_samples3, n_timesteps=n_timesteps, scaler=trained_scaler)"
      ]
    },
    {
      "cell_type": "code",
      "execution_count": 42,
      "id": "9e17b16d",
      "metadata": {
        "id": "9e17b16d",
        "outputId": "ea263a0b-7fbf-478e-d296-0d9476a6e119",
        "colab": {
          "base_uri": "https://localhost:8080/",
          "height": 552
        }
      },
      "outputs": [
        {
          "output_type": "stream",
          "name": "stdout",
          "text": [
            "0, 9: 0.08301075268817208\n",
            "9, 18: 0.16215053763440868\n",
            "18, 27: 0.16645161290322588\n",
            "27, 36: 0.21827956989247319\n",
            "36, 44: 0.16451612903225815\n",
            "44, 52: 0.15892473118279576\n",
            "52, 60: 0.01397849462365599\n",
            "60, 68: 0.010967741935483933\n",
            "68, 76: 0.006451612903225867\n"
          ]
        },
        {
          "output_type": "display_data",
          "data": {
            "text/plain": [
              "<Figure size 600x400 with 1 Axes>"
            ],
            "image/png": "[encoded data removed]"
          },
          "metadata": {}
        }
      ],
      "source": [
        "original_sample = actual_Xs[sample_id, :]\n",
        "cf_sample = actual_cfs3[sample_id, :]\n",
        "\n",
        "plt.figure(figsize=(6, 4))\n",
        "plt.plot(original_sample, color='b', label=\"Original ECG\")\n",
        "plt.plot(cf_sample, color='r', label=\"Counterfactual\")\n",
        "# plt.plot(np.mean(X_test[y_test_classes == 1], axis=0), color='green', label='Mean of other class')\n",
        "# plt.legend(loc='lower left')\n",
        "plt.xlabel(\"Timestep\")\n",
        "plt.ylabel(\"Voltage\")\n",
        "plt.legend()\n",
        "\n",
        "for i in range(len(seg_idx)-1):\n",
        "    weight = seg_imp[i]\n",
        "    start = seg_idx[i][0]\n",
        "    end = seg_idx[i+1][0]\n",
        "    print(f'{start}, {end}: {weight}')\n",
        "    if weight <= masking_threshold:\n",
        "        continue\n",
        "    color = 'lightcoral' # if weight < 0 else 'green'\n",
        "    plt.axvspan(start, end, color=color, alpha=abs(weight)*0.5)\n",
        "plt.xlabel(\"Timestep\")\n",
        "plt.ylabel(\"Voltage\")\n",
        "# plt.grid()\n",
        "plt.show()\n"
      ]
    },
    {
      "cell_type": "code",
      "execution_count": 43,
      "id": "f22f6d81",
      "metadata": {
        "id": "f22f6d81",
        "outputId": "ee030691-144e-44ea-ee10-78eea81582b3",
        "colab": {
          "base_uri": "https://localhost:8080/",
          "height": 388
        }
      },
      "outputs": [
        {
          "output_type": "display_data",
          "data": {
            "text/plain": [
              "<Figure size 600x400 with 1 Axes>"
            ],
            "image/png": "[encoded data removed]"
          },
          "metadata": {}
        }
      ],
      "source": [
        "original_sample = actual_Xs[sample_id, :]\n",
        "cf_sample = actual_cfs3[sample_id, :]\n",
        "\n",
        "plt.figure(figsize=(6, 4))\n",
        "plt.plot(original_sample, color='b', label=\"Original ECG\")\n",
        "plt.plot(cf_sample, color='r', label=\"Counterfactual\")\n",
        "plt.xlabel(\"Timestep\")\n",
        "plt.ylabel(\"Voltage\")\n",
        "plt.legend()\n",
        "# plt.grid()\n",
        "plt.show()"
      ]
    },
    {
      "cell_type": "code",
      "execution_count": 44,
      "id": "c8ab66d2",
      "metadata": {
        "id": "c8ab66d2",
        "outputId": "1993c40a-b765-4573-ec6b-6d21dbf536c4",
        "colab": {
          "base_uri": "https://localhost:8080/"
        }
      },
      "outputs": [
        {
          "output_type": "execute_result",
          "data": {
            "text/plain": [
              "array([1., 1., 1., 1., 1., 1., 1., 1., 1., 1., 1., 1., 1., 1., 1., 1., 1.,\n",
              "       1., 0., 0., 0., 0., 0., 0., 0., 0., 0., 0., 0., 0., 0., 0., 0., 0.,\n",
              "       0., 0., 0., 0., 0., 0., 0., 0., 0., 0., 1., 1., 1., 1., 1., 1., 1.,\n",
              "       1., 1., 1., 1., 1., 1., 1., 1., 1., 1., 1., 1., 1., 1., 1., 1., 1.,\n",
              "       1., 1., 1., 1., 1., 1., 1., 1., 1., 1., 1., 1., 1., 1., 1., 1.])"
            ]
          },
          "metadata": {},
          "execution_count": 44
        }
      ],
      "source": [
        "step_weights.reshape(-1)"
      ]
    },
    {
      "cell_type": "code",
      "execution_count": 45,
      "id": "b4ebda23",
      "metadata": {
        "id": "b4ebda23",
        "outputId": "3ec1c3ea-d2e5-42a4-91d0-a4a998098bae",
        "colab": {
          "base_uri": "https://localhost:8080/"
        }
      },
      "outputs": [
        {
          "output_type": "stream",
          "name": "stdout",
          "text": [
            "0.5006376\n"
          ]
        }
      ],
      "source": [
        "print(z_pred3[sample_id])"
      ]
    },
    {
      "cell_type": "markdown",
      "id": "0c131798",
      "metadata": {
        "id": "0c131798"
      },
      "source": [
        "## local, pred_margin_weight = 0.5"
      ]
    },
    {
      "cell_type": "code",
      "execution_count": 46,
      "id": "34f9ddb8",
      "metadata": {
        "id": "34f9ddb8",
        "outputId": "c70fde30-697a-4e05-9165-7e33fb45ce19",
        "colab": {
          "base_uri": "https://localhost:8080/"
        }
      },
      "outputs": [
        {
          "output_type": "stream",
          "name": "stdout",
          "text": [
            "======================== CF search started, with lr=0.0001.\n",
            "1 samples been transformed.\n",
            "4/4 [==============================] - 0s 10ms/step\n",
            "4/4 [==============================] - 0s 4ms/step\n",
            "4/4 [==============================] - 0s 4ms/step\n",
            "4/4 [==============================] - 0s 5ms/step\n",
            "4/4 [==============================] - 0s 5ms/step\n",
            "4/4 [==============================] - 0s 4ms/step\n",
            "4/4 [==============================] - 0s 5ms/step\n",
            "4/4 [==============================] - 0s 5ms/step\n",
            "4/4 [==============================] - 0s 5ms/step\n",
            "4/4 [==============================] - 0s 5ms/step\n",
            "10 samples been transformed, in total.\n",
            "1/1 [==============================] - 0s 30ms/step\n",
            "lr=0.0001 finished. Validity: 0.5, proximity: 0.11821911736282815.\n",
            "The best learning rate found is 0.0001.\n",
            "1/1 [==============================] - 0s 27ms/step\n"
          ]
        }
      ],
      "source": [
        "from _guided import get_global_weights\n",
        "PRED_MARGIN_W_LIST = [0.5]\n",
        "w_type = \"local\"\n",
        "\n",
        "if w_type == \"global\":\n",
        "    step_weights = get_global_weights(\n",
        "        X_train_processed_padded,\n",
        "        y_train_classes,\n",
        "        classifier,\n",
        "        random_state=RANDOM_STATE,\n",
        "    )\n",
        "elif w_type == \"uniform\":\n",
        "    step_weights = np.ones((1, n_timesteps_padded, n_features))\n",
        "elif w_type.lower() == \"local\":\n",
        "    step_weights = \"local\"\n",
        "else:\n",
        "    raise NotImplementedError(\n",
        "        \"A.w_type not implemented, please choose 'local', 'global' or 'uniform'.\"\n",
        "    )\n",
        "\n",
        "### Evaluation metrics\n",
        "for pred_margin_weight in PRED_MARGIN_W_LIST:\n",
        "    logger.info(f\"The current prediction margin weight is {pred_margin_weight}.\")\n",
        "\n",
        "    # Get these instances of negative predictions, which is class abnormal (0); (normal is class 1)\n",
        "    X_pred_neg = X_test_processed_padded[y_pred_classes == neg_label][:10]\n",
        "    y_pred_neg = y_pred_classes[y_pred_classes == neg_label][:10]\n",
        "\n",
        "    lr_list = [0.0001]\n",
        "    best_lr, best_cf_model, best_cf_samples, _ = find_best_lr(\n",
        "        classifier,\n",
        "        X_pred_neg,\n",
        "        y_pred_neg,\n",
        "        autoencoder=autoencoder,\n",
        "        lr_list=lr_list,\n",
        "        pred_margin_weight=pred_margin_weight,\n",
        "        step_weights=step_weights,\n",
        "        random_state=RANDOM_STATE,\n",
        "    )\n",
        "    print(f\"The best learning rate found is {best_lr}.\")\n",
        "\n",
        "    # predicted probabilities of CFs\n",
        "    z_pred = classifier.predict(best_cf_samples)[:, 1]\n",
        "    if padding_size != 0:\n",
        "        # remove extra paddings after counterfactual generation in 1dCNN autoencoder\n",
        "        best_cf_samples = best_cf_samples[:, :-padding_size, :]\n",
        "        # use the unpadded X for evaluation\n",
        "        X_pred_neg_orignal = X_test_processed[y_pred_classes == neg_label][:10]\n",
        "    else:\n",
        "        X_pred_neg_orignal = X_pred_neg[:10]\n",
        "\n",
        "    evaluate_res = evaluate2(\n",
        "        X_pred_neg_orignal, best_cf_samples, z_pred, n_timesteps\n",
        "    )\n",
        "\n"
      ]
    },
    {
      "cell_type": "code",
      "execution_count": 47,
      "id": "58076e60",
      "metadata": {
        "id": "58076e60",
        "outputId": "bba754a2-d3f9-49c4-e686-ea4913d31fe3",
        "colab": {
          "base_uri": "https://localhost:8080/"
        }
      },
      "outputs": [
        {
          "output_type": "stream",
          "name": "stdout",
          "text": [
            "Done for CF search [1dCNN autoencoder], pred_margin_weight=0.5.\n"
          ]
        }
      ],
      "source": [
        "result_writer.write_result(\n",
        "    \"1dCNN autoencoder\",\n",
        "    acc,\n",
        "    ae_val_loss,\n",
        "    best_lr,\n",
        "    evaluate_res,\n",
        "    pred_margin_weight=pred_margin_weight,\n",
        "    step_weight_type=w_type.lower(),\n",
        ")\n",
        "print(f\"Done for CF search [1dCNN autoencoder], pred_margin_weight={pred_margin_weight}.\")\n"
      ]
    },
    {
      "cell_type": "code",
      "execution_count": 48,
      "id": "3c2d1b88",
      "metadata": {
        "id": "3c2d1b88"
      },
      "outputs": [],
      "source": [
        "# Uncomment to visualize the first 5 counterfactual samples\n",
        "# Map the results back to the original scale, for comparison\n",
        "actual_Xs = time_series_revert(X_pred_neg_orignal, n_timesteps=n_timesteps, scaler=trained_scaler)\n",
        "actual_cfs = time_series_revert(best_cf_samples, n_timesteps=n_timesteps, scaler=trained_scaler)"
      ]
    },
    {
      "cell_type": "markdown",
      "id": "7d03d8fb",
      "metadata": {
        "id": "7d03d8fb"
      },
      "source": [
        "### plot for TwoLeadECG"
      ]
    },
    {
      "cell_type": "code",
      "execution_count": 49,
      "id": "e4e12ebf",
      "metadata": {
        "id": "e4e12ebf"
      },
      "outputs": [],
      "source": [
        "original_sample = actual_Xs[sample_id, :]\n",
        "cf_sample = actual_cfs[sample_id, :]"
      ]
    },
    {
      "cell_type": "code",
      "execution_count": 50,
      "id": "38fac5ab",
      "metadata": {
        "id": "38fac5ab",
        "outputId": "02f9195c-18a7-46c7-d409-04d046013089",
        "colab": {
          "base_uri": "https://localhost:8080/",
          "height": 388
        }
      },
      "outputs": [
        {
          "output_type": "display_data",
          "data": {
            "text/plain": [
              "<Figure size 600x400 with 1 Axes>"
            ],
            "image/png": "[encoded data removed]"
          },
          "metadata": {}
        }
      ],
      "source": [
        "plt.figure(figsize=(6, 4))\n",
        "plt.plot(original_sample, color='b', label=\"Original ECG\")\n",
        "plt.plot(cf_sample, color='r', label=\"Counterfactual\")\n",
        "plt.xlabel(\"Timestep\")\n",
        "plt.ylabel(\"Voltage\")\n",
        "plt.legend()\n",
        "plt.grid()\n",
        "plt.show()"
      ]
    },
    {
      "cell_type": "code",
      "execution_count": 51,
      "id": "cdc2cd06",
      "metadata": {
        "id": "cdc2cd06",
        "outputId": "1bbb4abb-ad5e-441c-894e-01be7e157c0d",
        "colab": {
          "base_uri": "https://localhost:8080/"
        }
      },
      "outputs": [
        {
          "output_type": "stream",
          "name": "stdout",
          "text": [
            "1.445151e-07\n"
          ]
        }
      ],
      "source": [
        "print(z_pred[sample_id])"
      ]
    },
    {
      "cell_type": "code",
      "execution_count": 52,
      "id": "4625853c",
      "metadata": {
        "id": "4625853c",
        "outputId": "57b9f181-3408-4b84-cd07-1a05af53944b",
        "colab": {
          "base_uri": "https://localhost:8080/"
        }
      },
      "outputs": [
        {
          "output_type": "stream",
          "name": "stdout",
          "text": [
            "4/4 [==============================] - 0s 4ms/step\n"
          ]
        },
        {
          "output_type": "stream",
          "name": "stderr",
          "text": [
            "/usr/local/lib/python3.10/dist-packages/numpy/core/fromnumeric.py:3432: RuntimeWarning: Mean of empty slice.\n",
            "  return _methods._mean(a, axis=axis, dtype=dtype,\n",
            "/usr/local/lib/python3.10/dist-packages/numpy/core/_methods.py:190: RuntimeWarning: invalid value encountered in double_scalars\n",
            "  ret = ret.dtype.type(ret / rcount)\n",
            "/usr/local/lib/python3.10/dist-packages/numpy/core/_methods.py:265: RuntimeWarning: Degrees of freedom <= 0 for slice\n",
            "  ret = _var(a, axis=axis, dtype=dtype, out=out, ddof=ddof,\n",
            "/usr/local/lib/python3.10/dist-packages/numpy/core/_methods.py:223: RuntimeWarning: invalid value encountered in divide\n",
            "  arrmean = um.true_divide(arrmean, div, out=arrmean, casting='unsafe',\n",
            "/usr/local/lib/python3.10/dist-packages/numpy/core/_methods.py:257: RuntimeWarning: invalid value encountered in double_scalars\n",
            "  ret = ret.dtype.type(ret / rcount)\n"
          ]
        }
      ],
      "source": [
        "from LIMESegment.Utils.explanations import LIMESegment\n",
        "\n",
        "series = X_pred_neg[sample_id]\n",
        "\n",
        "seg_imp, seg_idx = LIMESegment(\n",
        "        series,\n",
        "        classifier,\n",
        "        model_type=1,\n",
        "        cp=10,\n",
        "        window_size=10,\n",
        "        random_state=RANDOM_STATE,\n",
        "    )"
      ]
    },
    {
      "cell_type": "code",
      "execution_count": 53,
      "id": "d861a320",
      "metadata": {
        "id": "d861a320"
      },
      "outputs": [],
      "source": [
        "# seg_imp, seg_idx = explanations\n",
        "total_len = len(series)\n",
        "seg_idx[-1] = total_len - padding_size\n",
        "# seg_idx[-1] = total_len"
      ]
    },
    {
      "cell_type": "code",
      "execution_count": 54,
      "id": "f2d6aeee",
      "metadata": {
        "id": "f2d6aeee",
        "outputId": "bbf84286-2bac-4cae-e1f4-58a581f3ef9a",
        "colab": {
          "base_uri": "https://localhost:8080/"
        }
      },
      "outputs": [
        {
          "output_type": "execute_result",
          "data": {
            "text/plain": [
              "-0.10917438147963834"
            ]
          },
          "metadata": {},
          "execution_count": 54
        }
      ],
      "source": [
        "# calculate the threshold of masking, 25 percentile\n",
        "masking_threshold = np.percentile(seg_imp, 25)\n",
        "masking_idx = np.where(seg_imp <= masking_threshold)\n",
        "\n",
        "masking_threshold"
      ]
    },
    {
      "cell_type": "code",
      "execution_count": 55,
      "id": "f62df93b",
      "metadata": {
        "id": "f62df93b",
        "outputId": "4e72abe9-c28d-4a88-d63a-837eecef49a6",
        "colab": {
          "base_uri": "https://localhost:8080/",
          "height": 589
        }
      },
      "outputs": [
        {
          "output_type": "stream",
          "name": "stdout",
          "text": [
            "0, 10: -0.06653668491419444\n",
            "10, 22: 0.20698504883176913\n",
            "22, 28: -0.13845597936883988\n",
            "28, 33: 0.13052355657769615\n",
            "33, 41: -0.01677566913786679\n",
            "41, 47: -0.23380307911769121\n",
            "47, 52: -0.06508213405350337\n",
            "52, 59: -0.1898440132552883\n",
            "59, 66: 0.08044304298806561\n",
            "66, 71: -0.029441859296517284\n",
            "71, 82: -0.07989278359043682\n"
          ]
        },
        {
          "output_type": "display_data",
          "data": {
            "text/plain": [
              "<Figure size 600x400 with 1 Axes>"
            ],
            "image/png": "[encoded data removed]"
          },
          "metadata": {}
        }
      ],
      "source": [
        "import math\n",
        "\n",
        "plt.figure(figsize=(6, 4))\n",
        "plt.plot(original_sample, color='b', label=\"Original ECG\")\n",
        "plt.plot(cf_sample, color='r', label=\"Counterfactual\")\n",
        "# plt.plot(np.mean(X_test[y_test_classes == 1], axis=0), color='green', label='Mean of other class')\n",
        "# plt.legend(loc='lower left')\n",
        "plt.xlabel(\"Timestep\")\n",
        "plt.ylabel(\"Voltage\")\n",
        "plt.legend(loc='upper left')\n",
        "\n",
        "for i in range(len(seg_idx)-1):\n",
        "    weight = seg_imp[i]\n",
        "    start = seg_idx[i]\n",
        "    end = seg_idx[i+1]\n",
        "    print(f'{start}, {end}: {weight}')\n",
        "    if weight >= masking_threshold:\n",
        "        continue\n",
        "    color = 'lightcoral' #if weight < 0 else 'green'\n",
        "    plt.axvspan(start, end, color=color, alpha=0.11)#abs(weight))\n",
        "plt.xlabel(\"Timestep\")\n",
        "plt.ylabel(\"Voltage\")\n",
        "# plt.grid()\n",
        "plt.show()"
      ]
    },
    {
      "cell_type": "code",
      "execution_count": 56,
      "id": "d9a074fc",
      "metadata": {
        "id": "d9a074fc"
      },
      "outputs": [],
      "source": [
        "from LIMESegment.Utils.explanations import LIMESegment\n",
        "\n",
        "def get_local_weights(input_sample, classifier_model, random_state=None):\n",
        "    n_timesteps, n_dims = input_sample.shape  # n_dims=1\n",
        "    seg_imp, seg_idx = LIMESegment(\n",
        "        input_sample,\n",
        "        classifier_model,\n",
        "        model_type=1,\n",
        "        cp=10,\n",
        "        window_size=10,\n",
        "        random_state=random_state,\n",
        "    )\n",
        "\n",
        "    # calculate the threshold of masking, 25 percentile\n",
        "    masking_threshold = np.percentile(seg_imp, 25)\n",
        "    masking_idx = np.where(seg_imp <= masking_threshold)\n",
        "\n",
        "    weighted_steps = np.ones(n_timesteps)\n",
        "    for start_idx in masking_idx[0]:\n",
        "        weighted_steps[seg_idx[start_idx] : seg_idx[start_idx + 1]] = 0\n",
        "\n",
        "    # need to reshape for multiplication in `tf.math.multiply()`\n",
        "    weighted_steps = weighted_steps.reshape(1, n_timesteps, n_dims)\n",
        "    return weighted_steps"
      ]
    },
    {
      "cell_type": "code",
      "execution_count": 57,
      "id": "3c217473",
      "metadata": {
        "id": "3c217473",
        "outputId": "e22127b1-4fad-4b2b-951e-3cc665985142",
        "colab": {
          "base_uri": "https://localhost:8080/"
        }
      },
      "outputs": [
        {
          "output_type": "stream",
          "name": "stdout",
          "text": [
            "4/4 [==============================] - 0s 4ms/step\n"
          ]
        },
        {
          "output_type": "stream",
          "name": "stderr",
          "text": [
            "/usr/local/lib/python3.10/dist-packages/numpy/core/fromnumeric.py:3432: RuntimeWarning: Mean of empty slice.\n",
            "  return _methods._mean(a, axis=axis, dtype=dtype,\n",
            "/usr/local/lib/python3.10/dist-packages/numpy/core/_methods.py:190: RuntimeWarning: invalid value encountered in double_scalars\n",
            "  ret = ret.dtype.type(ret / rcount)\n",
            "/usr/local/lib/python3.10/dist-packages/numpy/core/_methods.py:265: RuntimeWarning: Degrees of freedom <= 0 for slice\n",
            "  ret = _var(a, axis=axis, dtype=dtype, out=out, ddof=ddof,\n",
            "/usr/local/lib/python3.10/dist-packages/numpy/core/_methods.py:223: RuntimeWarning: invalid value encountered in divide\n",
            "  arrmean = um.true_divide(arrmean, div, out=arrmean, casting='unsafe',\n",
            "/usr/local/lib/python3.10/dist-packages/numpy/core/_methods.py:257: RuntimeWarning: invalid value encountered in double_scalars\n",
            "  ret = ret.dtype.type(ret / rcount)\n"
          ]
        }
      ],
      "source": [
        "series = X_pred_neg[sample_id]\n",
        "\n",
        "step_weights = get_local_weights(\n",
        "    series, classifier, random_state=RANDOM_STATE\n",
        ")"
      ]
    },
    {
      "cell_type": "code",
      "execution_count": 58,
      "id": "20ea0acc",
      "metadata": {
        "id": "20ea0acc",
        "outputId": "8a80517d-8ada-484e-e711-f5fa7a4f6a8a",
        "colab": {
          "base_uri": "https://localhost:8080/"
        }
      },
      "outputs": [
        {
          "output_type": "execute_result",
          "data": {
            "text/plain": [
              "array([1., 1., 1., 1., 1., 1., 1., 1., 1., 1., 1., 1., 1., 1., 1., 1., 1.,\n",
              "       1., 1., 1., 1., 1., 0., 0., 0., 0., 0., 0., 1., 1., 1., 1., 1., 1.,\n",
              "       1., 1., 1., 1., 1., 1., 1., 0., 0., 0., 0., 0., 0., 1., 1., 1., 1.,\n",
              "       1., 0., 0., 0., 0., 0., 0., 0., 1., 1., 1., 1., 1., 1., 1., 1., 1.,\n",
              "       1., 1., 1., 1., 1., 1., 1., 1., 1., 1., 1., 1., 1., 1., 1., 1.])"
            ]
          },
          "metadata": {},
          "execution_count": 58
        }
      ],
      "source": [
        "step_weights.reshape(-1)"
      ]
    },
    {
      "cell_type": "markdown",
      "id": "7ae653d4",
      "metadata": {
        "id": "7ae653d4"
      },
      "source": [
        "## NoAE search"
      ]
    },
    {
      "cell_type": "code",
      "execution_count": 59,
      "id": "c64b22c0",
      "metadata": {
        "id": "c64b22c0",
        "outputId": "5d66ec38-241f-4512-c069-b9a62e7ddf7a",
        "colab": {
          "base_uri": "https://localhost:8080/"
        }
      },
      "outputs": [
        {
          "output_type": "stream",
          "name": "stdout",
          "text": [
            "======================== CF search started, with lr=0.001.\n",
            "1 samples been transformed.\n",
            "10 samples been transformed, in total.\n",
            "1/1 [==============================] - 0s 29ms/step\n",
            "lr=0.001 finished. Validity: 0.1, proximity: 0.11285234174766386.\n",
            "The best learning rate found is 0.001.\n",
            "1/1 [==============================] - 0s 28ms/step\n",
            "Done for CF search [No autoencoder], pred_margin_weight=0.5.\n"
          ]
        }
      ],
      "source": [
        "###############################################\n",
        "# ## 2.3 CF search with no autoencoder\n",
        "###############################################\n",
        "for pred_margin_weight in PRED_MARGIN_W_LIST:\n",
        "    logger.info(f\"The current prediction margin weight is {pred_margin_weight}.\")\n",
        "\n",
        "    # Get these instances of negative predictions, which is class abnormal (0); (normal is class 1)\n",
        "    X_pred_neg = X_test_processed_padded[y_pred_classes == neg_label][:10]\n",
        "    y_pred_neg = y_pred_classes[y_pred_classes == neg_label][:10]\n",
        "\n",
        "    lr_list3 = [0.001]\n",
        "    best_lr3, best_cf_model3, best_cf_samples3, _ = find_best_lr(\n",
        "        classifier,\n",
        "        X_pred_neg,\n",
        "        y_pred_neg,\n",
        "        autoencoder=None,\n",
        "        lr_list=lr_list3,\n",
        "        pred_margin_weight=pred_margin_weight,\n",
        "        step_weights=step_weights,\n",
        "        random_state=RANDOM_STATE,\n",
        "    )\n",
        "    print(f\"The best learning rate found is {best_lr3}.\")\n",
        "\n",
        "    # ### Evaluation metrics\n",
        "    # predicted probabilities of CFs\n",
        "    z_pred3 = classifier.predict(best_cf_samples3)[:, 1]\n",
        "    if padding_size != 0:\n",
        "        # remove extra paddings after counterfactual generation\n",
        "        best_cf_samples3 = best_cf_samples3[:, :-padding_size, :]\n",
        "        # use the unpadded X for evaluation\n",
        "        X_pred_neg_orignal = X_test_processed[y_pred_classes == neg_label][:10]\n",
        "    else:\n",
        "        X_pred_neg_orignal = X_pred_neg[:10]\n",
        "\n",
        "    evaluate_res3 = evaluate2(\n",
        "        X_pred_neg_orignal, best_cf_samples3, z_pred3, n_timesteps\n",
        "    )\n",
        "\n",
        "    result_writer.write_result(\n",
        "        \"No autoencoder\",\n",
        "        acc,\n",
        "        0,\n",
        "        best_lr3,\n",
        "        evaluate_res3,\n",
        "        pred_margin_weight=pred_margin_weight,\n",
        "        step_weight_type=w_type.lower(),\n",
        "    )\n",
        "    print(f\"Done for CF search [No autoencoder], pred_margin_weight={pred_margin_weight}.\")"
      ]
    },
    {
      "cell_type": "code",
      "execution_count": 60,
      "id": "8c7be967",
      "metadata": {
        "id": "8c7be967"
      },
      "outputs": [],
      "source": [
        "# Uncomment to visualize the first 5 counterfactual samples\n",
        "# Map the results back to the original scale, for comparison\n",
        "actual_Xs = time_series_revert(X_pred_neg_orignal, n_timesteps=n_timesteps, scaler=trained_scaler)\n",
        "actual_cfs3 = time_series_revert(best_cf_samples3, n_timesteps=n_timesteps, scaler=trained_scaler)"
      ]
    },
    {
      "cell_type": "code",
      "execution_count": 61,
      "id": "5ed5b906",
      "metadata": {
        "id": "5ed5b906",
        "outputId": "6c20fb6f-3820-4aa5-b7b6-f4538a8843a0",
        "colab": {
          "base_uri": "https://localhost:8080/",
          "height": 589
        }
      },
      "outputs": [
        {
          "output_type": "stream",
          "name": "stdout",
          "text": [
            "0, 10: -0.06653668491419444\n",
            "10, 22: 0.20698504883176913\n",
            "22, 28: -0.13845597936883988\n",
            "28, 33: 0.13052355657769615\n",
            "33, 41: -0.01677566913786679\n",
            "41, 47: -0.23380307911769121\n",
            "47, 52: -0.06508213405350337\n",
            "52, 59: -0.1898440132552883\n",
            "59, 66: 0.08044304298806561\n",
            "66, 71: -0.029441859296517284\n",
            "71, 82: -0.07989278359043682\n"
          ]
        },
        {
          "output_type": "display_data",
          "data": {
            "text/plain": [
              "<Figure size 600x400 with 1 Axes>"
            ],
            "image/png": "[encoded data removed]"
          },
          "metadata": {}
        }
      ],
      "source": [
        "original_sample = actual_Xs[sample_id, :]\n",
        "cf_sample = actual_cfs3[sample_id, :]\n",
        "\n",
        "plt.figure(figsize=(6, 4))\n",
        "plt.plot(original_sample, color='b', label=\"Original ECG\")\n",
        "plt.plot(cf_sample, color='r', label=\"Counterfactual\")\n",
        "# plt.plot(np.mean(X_test[y_test_classes == 1], axis=0), color='green', label='Mean of other class')\n",
        "# plt.legend(loc='lower left')\n",
        "plt.xlabel(\"Timestep\")\n",
        "plt.ylabel(\"Voltage\")\n",
        "plt.legend(loc='upper left')\n",
        "\n",
        "for i in range(len(seg_idx)-1):\n",
        "    weight = seg_imp[i]\n",
        "    start = seg_idx[i]\n",
        "    end = seg_idx[i+1]\n",
        "    print(f'{start}, {end}: {weight}')\n",
        "    if weight >= masking_threshold:\n",
        "        continue\n",
        "    color = 'lightcoral' #if weight < 0 else 'green'\n",
        "    plt.axvspan(start, end, color=color, alpha=0.11)#abs(weight))\n",
        "plt.xlabel(\"Timestep\")\n",
        "plt.ylabel(\"Voltage\")\n",
        "# plt.grid()\n",
        "plt.show()"
      ]
    },
    {
      "cell_type": "code",
      "execution_count": 62,
      "id": "634c8598",
      "metadata": {
        "id": "634c8598",
        "outputId": "2ff78900-a76e-4278-ce10-94309d93adc6",
        "colab": {
          "base_uri": "https://localhost:8080/",
          "height": 388
        }
      },
      "outputs": [
        {
          "output_type": "display_data",
          "data": {
            "text/plain": [
              "<Figure size 600x400 with 1 Axes>"
            ],
            "image/png": "[encoded data removed]"
          },
          "metadata": {}
        }
      ],
      "source": [
        "original_sample = actual_Xs[sample_id, :]\n",
        "cf_sample = actual_cfs3[sample_id, :]\n",
        "\n",
        "plt.figure(figsize=(6, 4))\n",
        "plt.plot(original_sample, color='b', label=\"Original ECG\")\n",
        "plt.plot(cf_sample, color='r', label=\"Counterfactual\")\n",
        "plt.xlabel(\"Timestep\")\n",
        "plt.ylabel(\"Voltage\")\n",
        "plt.legend()\n",
        "# plt.grid()\n",
        "plt.show()"
      ]
    },
    {
      "cell_type": "code",
      "execution_count": 63,
      "id": "dbfa1633",
      "metadata": {
        "id": "dbfa1633",
        "outputId": "94fc5e79-5bd3-4fa6-8177-34b405ec6523",
        "colab": {
          "base_uri": "https://localhost:8080/"
        }
      },
      "outputs": [
        {
          "output_type": "stream",
          "name": "stdout",
          "text": [
            "0.5009962\n"
          ]
        }
      ],
      "source": [
        "print(z_pred3[sample_id])"
      ]
    },
    {
      "cell_type": "markdown",
      "id": "85edfa96",
      "metadata": {
        "id": "85edfa96"
      },
      "source": [
        "## uniform, pred_margin_weight = 0.5"
      ]
    },
    {
      "cell_type": "code",
      "execution_count": 64,
      "id": "9d50bdde",
      "metadata": {
        "id": "9d50bdde",
        "outputId": "e6efe171-e718-4c5f-b7ca-f6c090f83bca",
        "colab": {
          "base_uri": "https://localhost:8080/"
        }
      },
      "outputs": [
        {
          "output_type": "stream",
          "name": "stdout",
          "text": [
            "======================== CF search started, with lr=0.0001.\n",
            "1 samples been transformed.\n",
            "10 samples been transformed, in total.\n",
            "1/1 [==============================] - 0s 31ms/step\n",
            "lr=0.0001 finished. Validity: 0.6, proximity: 0.08389057584029602.\n",
            "The best learning rate found is 0.0001.\n",
            "1/1 [==============================] - 0s 30ms/step\n"
          ]
        }
      ],
      "source": [
        "from _guided import get_global_weights\n",
        "PRED_MARGIN_W_LIST = [0.5]\n",
        "w_type = \"uniform\"\n",
        "\n",
        "if w_type == \"global\":\n",
        "    step_weights = get_global_weights_fixed(\n",
        "        X_train_processed_padded,\n",
        "        y_train_classes,\n",
        "        classifier,\n",
        "        random_state=RANDOM_STATE,\n",
        "    )\n",
        "elif w_type == \"uniform\":\n",
        "    step_weights = np.ones((1, n_timesteps_padded, n_features))\n",
        "elif w_type.lower() == \"local\":\n",
        "    step_weights = \"local\"\n",
        "else:\n",
        "    raise NotImplementedError(\n",
        "        \"A.w_type not implemented, please choose 'local', 'global' or 'uniform'.\"\n",
        "    )\n",
        "\n",
        "### Evaluation metrics\n",
        "for pred_margin_weight in PRED_MARGIN_W_LIST:\n",
        "    logger.info(f\"The current prediction margin weight is {pred_margin_weight}.\")\n",
        "\n",
        "    # Get these instances of negative predictions, which is class abnormal (0); (normal is class 1)\n",
        "    X_pred_neg = X_test_processed_padded[y_pred_classes == neg_label][:10]\n",
        "    y_pred_neg = y_pred_classes[y_pred_classes == neg_label][:10]\n",
        "    lr_list = [0.0001]\n",
        "    best_lr, best_cf_model, best_cf_samples, _ = find_best_lr(\n",
        "        classifier,\n",
        "        X_pred_neg,\n",
        "        y_pred_neg,\n",
        "        autoencoder=autoencoder,\n",
        "        lr_list=lr_list,\n",
        "        pred_margin_weight=pred_margin_weight,\n",
        "        step_weights=step_weights,\n",
        "        random_state=RANDOM_STATE,\n",
        "    )\n",
        "    print(f\"The best learning rate found is {best_lr}.\")\n",
        "\n",
        "    # predicted probabilities of CFs\n",
        "    z_pred = classifier.predict(best_cf_samples)[:, 1]\n",
        "    if padding_size != 0:\n",
        "        # remove extra paddings after counterfactual generation in 1dCNN autoencoder\n",
        "        best_cf_samples = best_cf_samples[:, :-padding_size, :]\n",
        "        # use the unpadded X for evaluation\n",
        "        X_pred_neg_orignal = X_test_processed[y_pred_classes == neg_label][:10]\n",
        "    else:\n",
        "        X_pred_neg_orignal = X_pred_neg[:10]\n",
        "\n",
        "    evaluate_res = evaluate2(\n",
        "        X_pred_neg_orignal, best_cf_samples, z_pred, n_timesteps\n",
        "    )\n",
        "\n"
      ]
    },
    {
      "cell_type": "code",
      "execution_count": 65,
      "id": "32ec3d99",
      "metadata": {
        "id": "32ec3d99",
        "outputId": "465badd7-a925-4468-a6ed-2ba32b50df85",
        "colab": {
          "base_uri": "https://localhost:8080/"
        }
      },
      "outputs": [
        {
          "output_type": "stream",
          "name": "stdout",
          "text": [
            "Done for CF search [1dCNN autoencoder], pred_margin_weight=0.5.\n"
          ]
        }
      ],
      "source": [
        "result_writer.write_result(\n",
        "    \"1dCNN autoencoder\",\n",
        "    acc,\n",
        "    ae_val_loss,\n",
        "    best_lr,\n",
        "    evaluate_res,\n",
        "    pred_margin_weight=pred_margin_weight,\n",
        "    step_weight_type=w_type.lower(),\n",
        ")\n",
        "print(f\"Done for CF search [1dCNN autoencoder], pred_margin_weight={pred_margin_weight}.\")\n"
      ]
    },
    {
      "cell_type": "code",
      "execution_count": 66,
      "id": "097aa798",
      "metadata": {
        "id": "097aa798"
      },
      "outputs": [],
      "source": [
        "# Uncomment to visualize the first 5 counterfactual samples\n",
        "# Map the results back to the original scale, for comparison\n",
        "actual_Xs = time_series_revert(X_pred_neg_orignal, n_timesteps=n_timesteps, scaler=trained_scaler)\n",
        "actual_cfs = time_series_revert(best_cf_samples, n_timesteps=n_timesteps, scaler=trained_scaler)"
      ]
    },
    {
      "cell_type": "markdown",
      "id": "be879d97",
      "metadata": {
        "id": "be879d97"
      },
      "source": [
        "### plot for TwoLeadECG"
      ]
    },
    {
      "cell_type": "code",
      "execution_count": 67,
      "id": "9ef86620",
      "metadata": {
        "id": "9ef86620"
      },
      "outputs": [],
      "source": [
        "original_sample = actual_Xs[sample_id, :]\n",
        "cf_sample = actual_cfs[sample_id, :]"
      ]
    },
    {
      "cell_type": "code",
      "execution_count": 68,
      "id": "414ebc45",
      "metadata": {
        "id": "414ebc45",
        "outputId": "1da598c9-65a4-4ce6-ce7a-dcdc2866a95c",
        "colab": {
          "base_uri": "https://localhost:8080/",
          "height": 388
        }
      },
      "outputs": [
        {
          "output_type": "display_data",
          "data": {
            "text/plain": [
              "<Figure size 600x400 with 1 Axes>"
            ],
            "image/png": "[encoded data removed]"
          },
          "metadata": {}
        }
      ],
      "source": [
        "plt.figure(figsize=(6, 4))\n",
        "plt.plot(original_sample, color='b', label=\"Original ECG\")\n",
        "plt.plot(cf_sample, color='r', label=\"Counterfactual\")\n",
        "plt.xlabel(\"Timestep\")\n",
        "plt.ylabel(\"Voltage\")\n",
        "plt.legend()\n",
        "# plt.grid()\n",
        "plt.show()"
      ]
    },
    {
      "cell_type": "code",
      "execution_count": 69,
      "id": "9f5b38f7",
      "metadata": {
        "id": "9f5b38f7",
        "outputId": "eb2f6395-087b-4ae3-b503-5ee5079f56a4",
        "colab": {
          "base_uri": "https://localhost:8080/"
        }
      },
      "outputs": [
        {
          "output_type": "stream",
          "name": "stdout",
          "text": [
            "1.1434607e-06\n"
          ]
        }
      ],
      "source": [
        "print(z_pred[sample_id])"
      ]
    },
    {
      "cell_type": "markdown",
      "id": "a9d76c19",
      "metadata": {
        "id": "a9d76c19"
      },
      "source": [
        "## NoAE search"
      ]
    },
    {
      "cell_type": "code",
      "execution_count": 70,
      "id": "1edc9d96",
      "metadata": {
        "id": "1edc9d96",
        "outputId": "3e0df9c9-a9a9-48ae-be3a-c31326008c35",
        "colab": {
          "base_uri": "https://localhost:8080/"
        }
      },
      "outputs": [
        {
          "output_type": "stream",
          "name": "stdout",
          "text": [
            "======================== CF search started, with lr=0.001.\n",
            "1 samples been transformed.\n",
            "10 samples been transformed, in total.\n",
            "1/1 [==============================] - 0s 32ms/step\n",
            "lr=0.001 finished. Validity: 0.7, proximity: 0.017751719225462502.\n",
            "The best learning rate found is 0.001.\n",
            "1/1 [==============================] - 0s 29ms/step\n",
            "Done for CF search [No autoencoder], pred_margin_weight=0.5.\n"
          ]
        }
      ],
      "source": [
        "###############################################\n",
        "# ## 2.3 CF search with no autoencoder\n",
        "###############################################\n",
        "for pred_margin_weight in PRED_MARGIN_W_LIST:\n",
        "    logger.info(f\"The current prediction margin weight is {pred_margin_weight}.\")\n",
        "\n",
        "    # Get these instances of negative predictions, which is class abnormal (0); (normal is class 1)\n",
        "    X_pred_neg = X_test_processed_padded[y_pred_classes == neg_label][:10]\n",
        "    y_pred_neg = y_pred_classes[y_pred_classes == neg_label][:10]\n",
        "\n",
        "    lr_list3 = [0.001]\n",
        "    best_lr3, best_cf_model3, best_cf_samples3, _ = find_best_lr(\n",
        "        classifier,\n",
        "        X_pred_neg,\n",
        "        y_pred_neg,\n",
        "        autoencoder=None,\n",
        "        lr_list=lr_list3,\n",
        "        pred_margin_weight=pred_margin_weight,\n",
        "        step_weights=step_weights,\n",
        "        random_state=RANDOM_STATE,\n",
        "    )\n",
        "    print(f\"The best learning rate found is {best_lr3}.\")\n",
        "\n",
        "    # ### Evaluation metrics\n",
        "    # predicted probabilities of CFs\n",
        "    z_pred3 = classifier.predict(best_cf_samples3)[:, 1]\n",
        "    if padding_size != 0:\n",
        "        # remove extra paddings after counterfactual generation\n",
        "        best_cf_samples3 = best_cf_samples3[:, :-padding_size, :]\n",
        "        # use the unpadded X for evaluation\n",
        "        X_pred_neg_orignal = X_test_processed[y_pred_classes == neg_label][:10]\n",
        "    else:\n",
        "        X_pred_neg_orignal = X_pred_neg[:10]\n",
        "\n",
        "    evaluate_res3 = evaluate2(\n",
        "        X_pred_neg_orignal, best_cf_samples3, z_pred3, n_timesteps\n",
        "    )\n",
        "\n",
        "    result_writer.write_result(\n",
        "        \"No autoencoder\",\n",
        "        acc,\n",
        "        0,\n",
        "        best_lr3,\n",
        "        evaluate_res3,\n",
        "        pred_margin_weight=pred_margin_weight,\n",
        "        step_weight_type=w_type.lower(),\n",
        "    )\n",
        "    print(f\"Done for CF search [No autoencoder], pred_margin_weight={pred_margin_weight}.\")"
      ]
    },
    {
      "cell_type": "code",
      "execution_count": 71,
      "id": "2ee7c3a0",
      "metadata": {
        "id": "2ee7c3a0"
      },
      "outputs": [],
      "source": [
        "# Uncomment to visualize the first 5 counterfactual samples\n",
        "# Map the results back to the original scale, for comparison\n",
        "actual_Xs = time_series_revert(X_pred_neg_orignal, n_timesteps=n_timesteps, scaler=trained_scaler)\n",
        "actual_cfs3 = time_series_revert(best_cf_samples3, n_timesteps=n_timesteps, scaler=trained_scaler)"
      ]
    },
    {
      "cell_type": "code",
      "execution_count": 72,
      "id": "3e56ef9a",
      "metadata": {
        "id": "3e56ef9a",
        "outputId": "f163751c-a8eb-41e2-bb78-35448f57ffe7",
        "colab": {
          "base_uri": "https://localhost:8080/",
          "height": 388
        }
      },
      "outputs": [
        {
          "output_type": "display_data",
          "data": {
            "text/plain": [
              "<Figure size 600x400 with 1 Axes>"
            ],
            "image/png": "[encoded data removed]"
          },
          "metadata": {}
        }
      ],
      "source": [
        "original_sample = actual_Xs[sample_id, :]\n",
        "cf_sample = actual_cfs3[sample_id, :]\n",
        "\n",
        "plt.figure(figsize=(6, 4))\n",
        "plt.plot(original_sample, color='b', label=\"Original ECG\")\n",
        "plt.plot(cf_sample, color='r', label=\"Counterfactual\")\n",
        "plt.xlabel(\"Timestep\")\n",
        "plt.ylabel(\"Voltage\")\n",
        "plt.legend()\n",
        "# plt.grid()\n",
        "plt.show()"
      ]
    },
    {
      "cell_type": "code",
      "execution_count": 73,
      "id": "fdbd6994",
      "metadata": {
        "id": "fdbd6994",
        "outputId": "98f40705-6624-4e0e-a06b-63bf8e5c920e",
        "colab": {
          "base_uri": "https://localhost:8080/"
        }
      },
      "outputs": [
        {
          "output_type": "execute_result",
          "data": {
            "text/plain": [
              "array([1., 1., 1., 1., 1., 1., 1., 1., 1., 1., 1., 1., 1., 1., 1., 1., 1.,\n",
              "       1., 1., 1., 1., 1., 1., 1., 1., 1., 1., 1., 1., 1., 1., 1., 1., 1.,\n",
              "       1., 1., 1., 1., 1., 1., 1., 1., 1., 1., 1., 1., 1., 1., 1., 1., 1.,\n",
              "       1., 1., 1., 1., 1., 1., 1., 1., 1., 1., 1., 1., 1., 1., 1., 1., 1.,\n",
              "       1., 1., 1., 1., 1., 1., 1., 1., 1., 1., 1., 1., 1., 1., 1., 1.])"
            ]
          },
          "metadata": {},
          "execution_count": 73
        }
      ],
      "source": [
        "step_weights.reshape(-1)"
      ]
    },
    {
      "cell_type": "code",
      "execution_count": 74,
      "id": "873b2a93",
      "metadata": {
        "id": "873b2a93",
        "outputId": "29694b62-28ee-4b6a-b080-e19632b47fd3",
        "colab": {
          "base_uri": "https://localhost:8080/"
        }
      },
      "outputs": [
        {
          "output_type": "stream",
          "name": "stdout",
          "text": [
            "2.7423935e-06\n"
          ]
        }
      ],
      "source": [
        "print(z_pred3[sample_id])"
      ]
    }
  ],
  "metadata": {
    "kernelspec": {
      "display_name": "ds-ext",
      "language": "python",
      "name": "ds-ext"
    },
    "language_info": {
      "codemirror_mode": {
        "name": "ipython",
        "version": 3
      },
      "file_extension": ".py",
      "mimetype": "text/x-python",
      "name": "python",
      "nbconvert_exporter": "python",
      "pygments_lexer": "ipython3",
      "version": "3.7.13"
    },
    "colab": {
      "provenance": []
    },
    "accelerator": "GPU",
    "gpuClass": "standard"
  },
  "nbformat": 4,
  "nbformat_minor": 5
}