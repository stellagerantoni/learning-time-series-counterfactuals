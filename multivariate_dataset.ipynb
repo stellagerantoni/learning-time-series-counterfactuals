{
  "nbformat": 4,
  "nbformat_minor": 0,
  "metadata": {
    "colab": {
      "provenance": [],
      "authorship_tag": "ABX9TyMs4FmHUOig0lu2qmuH5J8h",
      "include_colab_link": true
    },
    "kernelspec": {
      "name": "python3",
      "display_name": "Python 3"
    },
    "language_info": {
      "name": "python"
    }
  },
  "cells": [
    {
      "cell_type": "markdown",
      "metadata": {
        "id": "view-in-github",
        "colab_type": "text"
      },
      "source": [
        "<a href=\"https://colab.research.google.com/github/stellagerantoni/learning-time-series-counterfactuals/blob/main/multivariate_dataset.ipynb\" target=\"_parent\"><img src=\"https://colab.research.google.com/assets/colab-badge.svg\" alt=\"Open In Colab\"/></a>"
      ]
    },
    {
      "cell_type": "code",
      "execution_count": 1,
      "metadata": {
        "colab": {
          "base_uri": "https://localhost:8080/"
        },
        "id": "RIiG4khZBur-",
        "outputId": "4cd2cfc6-606a-4640-ef40-63caed7bd156"
      },
      "outputs": [
        {
          "output_type": "stream",
          "name": "stdout",
          "text": [
            "Cloning into 'learning-time-series-counterfactuals'...\n",
            "remote: Enumerating objects: 306, done.\u001b[K\n",
            "remote: Counting objects: 100% (168/168), done.\u001b[K\n",
            "remote: Compressing objects: 100% (142/142), done.\u001b[K\n",
            "remote: Total 306 (delta 119), reused 24 (delta 24), pack-reused 138\u001b[K\n",
            "Receiving objects: 100% (306/306), 4.36 MiB | 11.76 MiB/s, done.\n",
            "Resolving deltas: 100% (188/188), done.\n",
            "/content/learning-time-series-counterfactuals\n"
          ]
        }
      ],
      "source": [
        " ! git clone https://github.com/stellagerantoni/learning-time-series-counterfactuals\n",
        " %cd learning-time-series-counterfactuals/"
      ]
    },
    {
      "cell_type": "code",
      "source": [
        "\n",
        "!pip install -q wildboar\n",
        "!pip install -q scikit-learn\n",
        "!pip install -q stumpy\n",
        "!pip install -q fastdtw\n",
        "!pip install aeon[all_extras]"
      ],
      "metadata": {
        "colab": {
          "base_uri": "https://localhost:8080/"
        },
        "id": "89L3kts7CCan",
        "outputId": "1544cd6d-1bfb-49eb-e02a-6e02c601114e"
      },
      "execution_count": 2,
      "outputs": [
        {
          "output_type": "stream",
          "name": "stdout",
          "text": [
            "\u001b[2K     \u001b[90m━━━━━━━━━━━━━━━━━━━━━━━━━━━━━━━━━━━━━━━━\u001b[0m \u001b[32m7.2/7.2 MB\u001b[0m \u001b[31m13.7 MB/s\u001b[0m eta \u001b[36m0:00:00\u001b[0m\n",
            "\u001b[2K     \u001b[90m━━━━━━━━━━━━━━━━━━━━━━━━━━━━━━━━━━━━━━━\u001b[0m \u001b[32m169.1/169.1 kB\u001b[0m \u001b[31m2.6 MB/s\u001b[0m eta \u001b[36m0:00:00\u001b[0m\n",
            "\u001b[2K     \u001b[90m━━━━━━━━━━━━━━━━━━━━━━━━━━━━━━━━━━━━━━━\u001b[0m \u001b[32m133.4/133.4 kB\u001b[0m \u001b[31m1.5 MB/s\u001b[0m eta \u001b[36m0:00:00\u001b[0m\n",
            "\u001b[?25h  Preparing metadata (setup.py) ... \u001b[?25l\u001b[?25hdone\n",
            "  Building wheel for fastdtw (setup.py) ... \u001b[?25l\u001b[?25hdone\n"
          ]
        }
      ]
    },
    {
      "cell_type": "code",
      "source": [
        "import logging\n",
        "import os\n",
        "import warnings\n",
        "from argparse import ArgumentParser\n",
        "from aeon.datasets import load_classification\n",
        "\n",
        "from tensorflow import keras\n",
        "import matplotlib.pyplot as plt\n",
        "import numpy as np\n",
        "import pandas as pd\n",
        "import tensorflow as tf\n",
        "from scipy.spatial import distance_matrix\n",
        "from sklearn.metrics import balanced_accuracy_score, confusion_matrix\n",
        "from sklearn.model_selection import train_test_split\n",
        "from sklearn.neighbors import KDTree, KNeighborsClassifier\n",
        "from sklearn.preprocessing import MinMaxScaler\n",
        "from wildboar.datasets import load_dataset\n",
        "from wildboar.ensemble import ShapeletForestClassifier\n",
        "from wildboar.explain.counterfactual import counterfactuals\n",
        "\n",
        "from _composite import ModifiedLatentCF\n",
        "%cd src\n",
        "from _vanilla import LatentCF\n",
        "from help_functions import (ResultWriter, conditional_pad, evaluate,\n",
        "                            find_best_lr, plot_graphs,\n",
        "                            reset_seeds, time_series_normalize,\n",
        "                            time_series_revert, upsample_minority,\n",
        "                            validity_score)\n",
        "from keras_models import *"
      ],
      "metadata": {
        "colab": {
          "base_uri": "https://localhost:8080/"
        },
        "id": "Bdkpan5lCGRH",
        "outputId": "01d6c0bf-8a61-47ec-a608-97b1a298aad2"
      },
      "execution_count": 3,
      "outputs": [
        {
          "output_type": "stream",
          "name": "stdout",
          "text": [
            "/content/learning-time-series-counterfactuals/src\n"
          ]
        }
      ]
    },
    {
      "cell_type": "code",
      "source": [
        "os.environ['TF_DETERMINISTIC_OPS'] = '1'\n",
        "config = tf.compat.v1.ConfigProto()\n",
        "config.gpu_options.allow_growth = True\n",
        "session = tf.compat.v1.Session(config=config)"
      ],
      "metadata": {
        "id": "GJE1AxFnE51S"
      },
      "execution_count": 4,
      "outputs": []
    },
    {
      "cell_type": "code",
      "source": [
        "\n",
        "X, y, meta_data = load_classification(\"FaceDetection\")\n",
        "print(\" Shape of X = \", X.shape)\n",
        "print(\" Meta data = \", meta_data)\n",
        "print(f\"\\nshape of X is {X.shape}\\n\")\n",
        "print(X[:3])"
      ],
      "metadata": {
        "colab": {
          "base_uri": "https://localhost:8080/"
        },
        "id": "QsJJktx22dXs",
        "outputId": "9c5e54f5-0763-44dc-8182-2fd981611b66"
      },
      "execution_count": 24,
      "outputs": [
        {
          "output_type": "stream",
          "name": "stdout",
          "text": [
            " Shape of X =  (9414, 144, 62)\n",
            " Meta data =  {'problemname': 'facedetection', 'timestamps': False, 'missing': False, 'univariate': False, 'equallength': True, 'classlabel': True, 'targetlabel': False, 'class_values': ['0', '1']}\n",
            "\n",
            "shape of X is (9414, 144, 62)\n",
            "\n",
            "[[[-0.07545  -0.336703 -0.278238 ... -0.411078 -1.016122 -1.161735]\n",
            "  [ 0.05608  -0.128013 -0.323847 ... -2.114348  0.208789 -0.509533]\n",
            "  [-0.824537 -0.746068 -0.482871 ... -0.929275 -1.007972 -0.292018]\n",
            "  ...\n",
            "  [-0.56758  -1.073942 -1.136367 ... -0.541122 -0.765445 -1.73308 ]\n",
            "  [-0.23404   0.104291  0.327425 ... -1.458801  0.318952  1.854007]\n",
            "  [-0.356189 -0.511199 -0.483072 ... -1.177502 -0.728301 -0.400074]]\n",
            "\n",
            " [[-0.093192 -0.310616 -0.388905 ...  1.937879  0.978442  0.626839]\n",
            "  [-1.584982 -1.138981 -0.852494 ... -0.334188  0.636669  0.078561]\n",
            "  [-0.462859 -0.301394 -0.50619  ...  0.864706  0.113177 -0.337559]\n",
            "  ...\n",
            "  [-0.056147 -0.051994 -0.195028 ... -2.212319 -1.052363 -1.774344]\n",
            "  [-0.71979  -0.624242 -0.548486 ...  0.276439  1.380659  0.376838]\n",
            "  [-0.444479 -0.386303 -0.436634 ... -0.855299  0.879662  0.519303]]\n",
            "\n",
            " [[-1.817039 -2.430327 -2.440171 ...  0.124072 -0.040883  0.142847]\n",
            "  [-0.369553 -0.324909 -0.016544 ... -0.559793  0.677662  0.939811]\n",
            "  [-0.425178 -0.567811 -0.52069  ...  0.383046 -0.225505 -1.388213]\n",
            "  ...\n",
            "  [-0.283757  0.172827  0.135765 ...  0.51225   0.530602  0.691952]\n",
            "  [-0.425339 -0.371287 -0.144273 ... -0.792783 -1.765925 -1.719203]\n",
            "  [-1.041623 -1.087343 -1.140112 ...  1.064981  0.163076 -0.096868]]]\n"
          ]
        }
      ]
    },
    {
      "cell_type": "code",
      "source": [
        "X_train, X_test, y_train, y_test = train_test_split(X, y, test_size=0.2, random_state=RANDOM_STATE, stratify=y)"
      ],
      "metadata": {
        "id": "-2BhRnuMBM3k"
      },
      "execution_count": 23,
      "outputs": []
    },
    {
      "cell_type": "code",
      "source": [],
      "metadata": {
        "id": "yHPPBJwMBPVp"
      },
      "execution_count": null,
      "outputs": []
    }
  ]
}